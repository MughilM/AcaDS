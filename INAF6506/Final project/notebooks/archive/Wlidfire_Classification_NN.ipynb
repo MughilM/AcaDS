{
 "nbformat": 4,
 "nbformat_minor": 0,
 "metadata": {
  "colab": {
   "name": "Wlidfire-Classification-NN.ipynb",
   "provenance": [],
   "collapsed_sections": [],
   "toc_visible": true,
   "machine_shape": "hm"
  },
  "kernelspec": {
   "name": "python3",
   "display_name": "Python 3"
  }
 },
 "cells": [
  {
   "cell_type": "markdown",
   "metadata": {
    "id": "3XAvuYIzukxX"
   },
   "source": [
    "# Wildfire Classification with Neural Networks\n",
    "This notebook will take a different approach than previous models. The data will be almost the same, except instead of fitting a regression on it, we will let it flow through a neural network. The hope is that the network learns a more complicated function that represents the data that a simple regression could not.\n",
    "\n",
    "Additionally, I also plan on splitting the fire data into 2 different parts: One that classifies small fires (< 10 acres), and one that classifies medium to large fires (> 10 acres). One of the theories that resulted in the logistic regression not working well was that we were trying to predict small fires (which may have a spontaneous nature) as well as larger ones (which may actually result from environmental factors) within the same model.\n",
    "\n",
    "As for the networks, I plan on having a simple dense network (2-3 dense layers) which will take input directly as we have it. Another network will be a convolutional neural network which will take the 2D view of the lag as different channels. We will see how both perform on the combined and the split data."
   ]
  },
  {
   "cell_type": "markdown",
   "metadata": {
    "id": "2rY8lQxAL25p"
   },
   "source": [
    "# Import Packages\n",
    "Import all the modules and packages we would need, including mounting our drive so we can access the data."
   ]
  },
  {
   "cell_type": "code",
   "metadata": {
    "id": "FUBFQ71LQNxP",
    "colab": {
     "base_uri": "https://localhost:8080/",
     "height": 332
    },
    "outputId": "bcc8e33b-b7f4-4d60-d53f-5dc324bd67e6"
   },
   "source": [
    "!pip install rasterio"
   ],
   "execution_count": null,
   "outputs": [
    {
     "output_type": "stream",
     "text": [
      "Collecting rasterio\n",
      "\u001B[?25l  Downloading https://files.pythonhosted.org/packages/c7/81/13321f88f582a00705c5f348724728e8999136e19d6e7c56f7e6ac9bb7f9/rasterio-1.1.3-cp36-cp36m-manylinux1_x86_64.whl (18.1MB)\n",
      "\u001B[K     |████████████████████████████████| 18.1MB 231kB/s \n",
      "\u001B[?25hRequirement already satisfied: click<8,>=4.0 in /usr/local/lib/python3.6/dist-packages (from rasterio) (7.1.1)\n",
      "Collecting snuggs>=1.4.1\n",
      "  Downloading https://files.pythonhosted.org/packages/cc/0e/d27d6e806d6c0d1a2cfdc5d1f088e42339a0a54a09c3343f7f81ec8947ea/snuggs-1.4.7-py3-none-any.whl\n",
      "Requirement already satisfied: numpy in /usr/local/lib/python3.6/dist-packages (from rasterio) (1.18.3)\n",
      "Collecting click-plugins\n",
      "  Downloading https://files.pythonhosted.org/packages/e9/da/824b92d9942f4e472702488857914bdd50f73021efea15b4cad9aca8ecef/click_plugins-1.1.1-py2.py3-none-any.whl\n",
      "Collecting cligj>=0.5\n",
      "  Downloading https://files.pythonhosted.org/packages/e4/be/30a58b4b0733850280d01f8bd132591b4668ed5c7046761098d665ac2174/cligj-0.5.0-py3-none-any.whl\n",
      "Collecting affine\n",
      "  Downloading https://files.pythonhosted.org/packages/ac/a6/1a39a1ede71210e3ddaf623982b06ecfc5c5c03741ae659073159184cd3e/affine-2.3.0-py2.py3-none-any.whl\n",
      "Requirement already satisfied: attrs in /usr/local/lib/python3.6/dist-packages (from rasterio) (19.3.0)\n",
      "Requirement already satisfied: pyparsing>=2.1.6 in /usr/local/lib/python3.6/dist-packages (from snuggs>=1.4.1->rasterio) (2.4.7)\n",
      "Installing collected packages: snuggs, click-plugins, cligj, affine, rasterio\n",
      "Successfully installed affine-2.3.0 click-plugins-1.1.1 cligj-0.5.0 rasterio-1.1.3 snuggs-1.4.7\n"
     ],
     "name": "stdout"
    }
   ]
  },
  {
   "cell_type": "code",
   "metadata": {
    "id": "ZDkl5LVOQXGu",
    "colab": {
     "base_uri": "https://localhost:8080/",
     "height": 159
    },
    "outputId": "f373bf35-5b92-40c0-b0eb-572d47200965"
   },
   "source": [
    "import numpy as np\n",
    "import numpy.ma as ma\n",
    "import rasterio as rio\n",
    "import pandas as pd\n",
    "\n",
    "from itertools import product\n",
    "from collections import defaultdict\n",
    "import seaborn as sns\n",
    "\n",
    "import os\n",
    "import time\n",
    "\n",
    "import matplotlib\n",
    "from mpl_toolkits.axes_grid1 import make_axes_locatable\n",
    "import matplotlib.pyplot as plt\n",
    "\n",
    "from sklearn.model_selection import train_test_split\n",
    "from sklearn.preprocessing import PowerTransformer\n",
    "\n",
    "# Neural networks...\n",
    "import tensorflow as tf\n",
    "import tensorflow.keras.layers as layers\n",
    "from tensorflow.keras.models import Sequential\n",
    "\n",
    "import pprint\n",
    "\n",
    "# To read things from our drive\n",
    "from google.colab import drive\n",
    "\n",
    "%matplotlib inline\n",
    "drive.mount('/gdrive')"
   ],
   "execution_count": null,
   "outputs": [
    {
     "output_type": "stream",
     "text": [
      "/usr/local/lib/python3.6/dist-packages/statsmodels/tools/_testing.py:19: FutureWarning: pandas.util.testing is deprecated. Use the functions in the public API at pandas.testing instead.\n",
      "  import pandas.util.testing as tm\n"
     ],
     "name": "stderr"
    },
    {
     "output_type": "stream",
     "text": [
      "Go to this URL in a browser: https://accounts.google.com/o/oauth2/auth?client_id=947318989803-6bn6qk8qdgf4n4g3pfee6491hc0brc4i.apps.googleusercontent.com&redirect_uri=urn%3aietf%3awg%3aoauth%3a2.0%3aoob&response_type=code&scope=email%20https%3a%2f%2fwww.googleapis.com%2fauth%2fdocs.test%20https%3a%2f%2fwww.googleapis.com%2fauth%2fdrive%20https%3a%2f%2fwww.googleapis.com%2fauth%2fdrive.photos.readonly%20https%3a%2f%2fwww.googleapis.com%2fauth%2fpeopleapi.readonly\n",
      "\n",
      "Enter your authorization code:\n",
      "··········\n",
      "Mounted at /gdrive\n"
     ],
     "name": "stdout"
    }
   ]
  },
  {
   "cell_type": "markdown",
   "metadata": {
    "id": "evP6MStGQhzB"
   },
   "source": [
    "# Data Generation for Splitted Dataset\n",
    "As stated above, it is possible that the model might work together if we had two separate models estimating the long-term tendency for small fires and medium to large ones.\n",
    "\n",
    "DO THIS LATER, CAUSE IT'LL TAKE A WHILE..."
   ]
  },
  {
   "cell_type": "markdown",
   "metadata": {
    "id": "TPKhcdosReD9"
   },
   "source": [
    "# Dense Model\n",
    "First, we'll straight up use the `spatialReg.csv` that was generated for logistic regression, and pass it through a couple of dense layers. If this works well, then at the very least, the network should be able to memorize the training dataset, regardless of the performance on the validation and testing sets."
   ]
  },
  {
   "cell_type": "markdown",
   "metadata": {
    "id": "0jl-SFQwSBLx"
   },
   "source": [
    "## Read in Data"
   ]
  },
  {
   "cell_type": "code",
   "metadata": {
    "id": "kolYnbaNSIIi"
   },
   "source": [
    "# Meta stuff\n",
    "months = ['Jan', 'Feb', 'Mar', 'Apr', 'May', 'Jun',\n",
    "          'Jul', 'Aug', 'Sep', 'Oct', 'Nov', 'Dec']\n",
    "metricNames = ['tavg', 'prec', 'srad', 'wind', 'vapr']\n",
    "GDRIVE_ROOT = '/gdrive/My Drive/Data Science and Public Policy/Final project'\n",
    "PREPPED_DATA = 'Data/Preprocessed/5m'\n",
    "LANDCOVER = 'Data/Land Cover'\n",
    "LAG = 5"
   ],
   "execution_count": null,
   "outputs": []
  },
  {
   "cell_type": "code",
   "metadata": {
    "id": "_A7dSGqjSVW5",
    "colab": {
     "base_uri": "https://localhost:8080/",
     "height": 251
    },
    "outputId": "9411f4fb-32b6-4090-fac6-afd5d450c441"
   },
   "source": [
    "# Read in spatial regression...\n",
    "spatialReg = pd.read_csv(os.path.join(GDRIVE_ROOT, PREPPED_DATA, 'spatialReg.csv'))\n",
    "spatialReg.dropna(inplace=True)\n",
    "# Save the columns which have the metrics. Useful later...\n",
    "metricColumns = ['{}_L{}_avg'.format(metric, lag) \\\n",
    "                 for lag, metric in product(range(1, LAG + 1), metricNames)]\n",
    "# Also drop the extra land cover category\n",
    "for lag in range(1, LAG + 1):\n",
    "  spatialReg.drop('LC95_L{}_%'.format(lag), axis=1, inplace=True)\n",
    "spatialReg.head()"
   ],
   "execution_count": null,
   "outputs": [
    {
     "output_type": "execute_result",
     "data": {
      "text/html": [
       "<div>\n",
       "<style scoped>\n",
       "    .dataframe tbody tr th:only-of-type {\n",
       "        vertical-align: middle;\n",
       "    }\n",
       "\n",
       "    .dataframe tbody tr th {\n",
       "        vertical-align: top;\n",
       "    }\n",
       "\n",
       "    .dataframe thead th {\n",
       "        text-align: right;\n",
       "    }\n",
       "</style>\n",
       "<table border=\"1\" class=\"dataframe\">\n",
       "  <thead>\n",
       "    <tr style=\"text-align: right;\">\n",
       "      <th></th>\n",
       "      <th>Month</th>\n",
       "      <th>fires_L1_%</th>\n",
       "      <th>tavg_L1_avg</th>\n",
       "      <th>prec_L1_avg</th>\n",
       "      <th>srad_L1_avg</th>\n",
       "      <th>wind_L1_avg</th>\n",
       "      <th>vapr_L1_avg</th>\n",
       "      <th>LC11_L1_%</th>\n",
       "      <th>LC12_L1_%</th>\n",
       "      <th>LC21_L1_%</th>\n",
       "      <th>LC22_L1_%</th>\n",
       "      <th>LC23_L1_%</th>\n",
       "      <th>LC24_L1_%</th>\n",
       "      <th>LC31_L1_%</th>\n",
       "      <th>LC41_L1_%</th>\n",
       "      <th>LC42_L1_%</th>\n",
       "      <th>LC43_L1_%</th>\n",
       "      <th>LC52_L1_%</th>\n",
       "      <th>LC71_L1_%</th>\n",
       "      <th>LC81_L1_%</th>\n",
       "      <th>LC82_L1_%</th>\n",
       "      <th>LC90_L1_%</th>\n",
       "      <th>fires_L2_%</th>\n",
       "      <th>tavg_L2_avg</th>\n",
       "      <th>prec_L2_avg</th>\n",
       "      <th>srad_L2_avg</th>\n",
       "      <th>wind_L2_avg</th>\n",
       "      <th>vapr_L2_avg</th>\n",
       "      <th>LC11_L2_%</th>\n",
       "      <th>LC12_L2_%</th>\n",
       "      <th>LC21_L2_%</th>\n",
       "      <th>LC22_L2_%</th>\n",
       "      <th>LC23_L2_%</th>\n",
       "      <th>LC24_L2_%</th>\n",
       "      <th>LC31_L2_%</th>\n",
       "      <th>LC41_L2_%</th>\n",
       "      <th>LC42_L2_%</th>\n",
       "      <th>LC43_L2_%</th>\n",
       "      <th>LC52_L2_%</th>\n",
       "      <th>LC71_L2_%</th>\n",
       "      <th>...</th>\n",
       "      <th>srad_L4_avg</th>\n",
       "      <th>wind_L4_avg</th>\n",
       "      <th>vapr_L4_avg</th>\n",
       "      <th>LC11_L4_%</th>\n",
       "      <th>LC12_L4_%</th>\n",
       "      <th>LC21_L4_%</th>\n",
       "      <th>LC22_L4_%</th>\n",
       "      <th>LC23_L4_%</th>\n",
       "      <th>LC24_L4_%</th>\n",
       "      <th>LC31_L4_%</th>\n",
       "      <th>LC41_L4_%</th>\n",
       "      <th>LC42_L4_%</th>\n",
       "      <th>LC43_L4_%</th>\n",
       "      <th>LC52_L4_%</th>\n",
       "      <th>LC71_L4_%</th>\n",
       "      <th>LC81_L4_%</th>\n",
       "      <th>LC82_L4_%</th>\n",
       "      <th>LC90_L4_%</th>\n",
       "      <th>fires_L5_%</th>\n",
       "      <th>tavg_L5_avg</th>\n",
       "      <th>prec_L5_avg</th>\n",
       "      <th>srad_L5_avg</th>\n",
       "      <th>wind_L5_avg</th>\n",
       "      <th>vapr_L5_avg</th>\n",
       "      <th>LC11_L5_%</th>\n",
       "      <th>LC12_L5_%</th>\n",
       "      <th>LC21_L5_%</th>\n",
       "      <th>LC22_L5_%</th>\n",
       "      <th>LC23_L5_%</th>\n",
       "      <th>LC24_L5_%</th>\n",
       "      <th>LC31_L5_%</th>\n",
       "      <th>LC41_L5_%</th>\n",
       "      <th>LC42_L5_%</th>\n",
       "      <th>LC43_L5_%</th>\n",
       "      <th>LC52_L5_%</th>\n",
       "      <th>LC71_L5_%</th>\n",
       "      <th>LC81_L5_%</th>\n",
       "      <th>LC82_L5_%</th>\n",
       "      <th>LC90_L5_%</th>\n",
       "      <th>fireCenter</th>\n",
       "    </tr>\n",
       "  </thead>\n",
       "  <tbody>\n",
       "    <tr>\n",
       "      <th>0</th>\n",
       "      <td>Jan</td>\n",
       "      <td>0.0</td>\n",
       "      <td>-17.597000</td>\n",
       "      <td>20.500000</td>\n",
       "      <td>4540.000000</td>\n",
       "      <td>3.476000</td>\n",
       "      <td>0.16</td>\n",
       "      <td>0.000000</td>\n",
       "      <td>0.0</td>\n",
       "      <td>0.0</td>\n",
       "      <td>0.0</td>\n",
       "      <td>0.0</td>\n",
       "      <td>0.0</td>\n",
       "      <td>0.0</td>\n",
       "      <td>0.0</td>\n",
       "      <td>0.0</td>\n",
       "      <td>0.0</td>\n",
       "      <td>0.0</td>\n",
       "      <td>0.0</td>\n",
       "      <td>0.0</td>\n",
       "      <td>0.0</td>\n",
       "      <td>1.000000</td>\n",
       "      <td>0.0</td>\n",
       "      <td>-17.271333</td>\n",
       "      <td>20.00</td>\n",
       "      <td>4475.333333</td>\n",
       "      <td>3.450667</td>\n",
       "      <td>0.160000</td>\n",
       "      <td>0.333333</td>\n",
       "      <td>0.0</td>\n",
       "      <td>0.0</td>\n",
       "      <td>0.0</td>\n",
       "      <td>0.0</td>\n",
       "      <td>0.0</td>\n",
       "      <td>0.0</td>\n",
       "      <td>0.0</td>\n",
       "      <td>0.0</td>\n",
       "      <td>0.0</td>\n",
       "      <td>0.0</td>\n",
       "      <td>0.0</td>\n",
       "      <td>...</td>\n",
       "      <td>4413.50</td>\n",
       "      <td>3.427250</td>\n",
       "      <td>0.16275</td>\n",
       "      <td>1.00</td>\n",
       "      <td>0.0</td>\n",
       "      <td>0.0</td>\n",
       "      <td>0.0</td>\n",
       "      <td>0.0</td>\n",
       "      <td>0.0</td>\n",
       "      <td>0.0</td>\n",
       "      <td>0.0</td>\n",
       "      <td>0.0</td>\n",
       "      <td>0.0</td>\n",
       "      <td>0.0</td>\n",
       "      <td>0.0</td>\n",
       "      <td>0.0</td>\n",
       "      <td>0.000000</td>\n",
       "      <td>0.000000</td>\n",
       "      <td>0.0</td>\n",
       "      <td>-16.989799</td>\n",
       "      <td>17.200000</td>\n",
       "      <td>4412.400000</td>\n",
       "      <td>3.440000</td>\n",
       "      <td>0.167200</td>\n",
       "      <td>0.600000</td>\n",
       "      <td>0.0</td>\n",
       "      <td>0.0</td>\n",
       "      <td>0.0</td>\n",
       "      <td>0.0</td>\n",
       "      <td>0.0</td>\n",
       "      <td>0.0</td>\n",
       "      <td>0.0</td>\n",
       "      <td>0.0</td>\n",
       "      <td>0.0</td>\n",
       "      <td>0.0</td>\n",
       "      <td>0.0</td>\n",
       "      <td>0.0</td>\n",
       "      <td>0.200000</td>\n",
       "      <td>0.0</td>\n",
       "      <td>0</td>\n",
       "    </tr>\n",
       "    <tr>\n",
       "      <th>1</th>\n",
       "      <td>Jan</td>\n",
       "      <td>0.0</td>\n",
       "      <td>-17.503332</td>\n",
       "      <td>20.666667</td>\n",
       "      <td>4530.333333</td>\n",
       "      <td>3.450667</td>\n",
       "      <td>0.16</td>\n",
       "      <td>0.000000</td>\n",
       "      <td>0.0</td>\n",
       "      <td>0.0</td>\n",
       "      <td>0.0</td>\n",
       "      <td>0.0</td>\n",
       "      <td>0.0</td>\n",
       "      <td>0.0</td>\n",
       "      <td>0.0</td>\n",
       "      <td>0.0</td>\n",
       "      <td>0.0</td>\n",
       "      <td>0.0</td>\n",
       "      <td>0.0</td>\n",
       "      <td>0.0</td>\n",
       "      <td>0.0</td>\n",
       "      <td>1.000000</td>\n",
       "      <td>0.0</td>\n",
       "      <td>-17.245501</td>\n",
       "      <td>20.00</td>\n",
       "      <td>4444.250000</td>\n",
       "      <td>3.427500</td>\n",
       "      <td>0.160000</td>\n",
       "      <td>0.250000</td>\n",
       "      <td>0.0</td>\n",
       "      <td>0.0</td>\n",
       "      <td>0.0</td>\n",
       "      <td>0.0</td>\n",
       "      <td>0.0</td>\n",
       "      <td>0.0</td>\n",
       "      <td>0.0</td>\n",
       "      <td>0.0</td>\n",
       "      <td>0.0</td>\n",
       "      <td>0.0</td>\n",
       "      <td>0.0</td>\n",
       "      <td>...</td>\n",
       "      <td>4425.25</td>\n",
       "      <td>3.425000</td>\n",
       "      <td>0.16665</td>\n",
       "      <td>0.75</td>\n",
       "      <td>0.0</td>\n",
       "      <td>0.0</td>\n",
       "      <td>0.0</td>\n",
       "      <td>0.0</td>\n",
       "      <td>0.0</td>\n",
       "      <td>0.0</td>\n",
       "      <td>0.0</td>\n",
       "      <td>0.0</td>\n",
       "      <td>0.0</td>\n",
       "      <td>0.0</td>\n",
       "      <td>0.0</td>\n",
       "      <td>0.0</td>\n",
       "      <td>0.000000</td>\n",
       "      <td>0.000000</td>\n",
       "      <td>0.0</td>\n",
       "      <td>-17.000500</td>\n",
       "      <td>16.750000</td>\n",
       "      <td>4403.250000</td>\n",
       "      <td>3.435000</td>\n",
       "      <td>0.168575</td>\n",
       "      <td>0.500000</td>\n",
       "      <td>0.0</td>\n",
       "      <td>0.0</td>\n",
       "      <td>0.0</td>\n",
       "      <td>0.0</td>\n",
       "      <td>0.0</td>\n",
       "      <td>0.0</td>\n",
       "      <td>0.0</td>\n",
       "      <td>0.0</td>\n",
       "      <td>0.0</td>\n",
       "      <td>0.0</td>\n",
       "      <td>0.0</td>\n",
       "      <td>0.0</td>\n",
       "      <td>0.000000</td>\n",
       "      <td>0.5</td>\n",
       "      <td>0</td>\n",
       "    </tr>\n",
       "    <tr>\n",
       "      <th>2</th>\n",
       "      <td>Jan</td>\n",
       "      <td>0.0</td>\n",
       "      <td>-17.349333</td>\n",
       "      <td>20.666667</td>\n",
       "      <td>4468.666667</td>\n",
       "      <td>3.417334</td>\n",
       "      <td>0.16</td>\n",
       "      <td>0.000000</td>\n",
       "      <td>0.0</td>\n",
       "      <td>0.0</td>\n",
       "      <td>0.0</td>\n",
       "      <td>0.0</td>\n",
       "      <td>0.0</td>\n",
       "      <td>0.0</td>\n",
       "      <td>0.0</td>\n",
       "      <td>0.0</td>\n",
       "      <td>0.0</td>\n",
       "      <td>0.0</td>\n",
       "      <td>0.0</td>\n",
       "      <td>0.0</td>\n",
       "      <td>0.0</td>\n",
       "      <td>1.000000</td>\n",
       "      <td>0.0</td>\n",
       "      <td>-17.318499</td>\n",
       "      <td>20.00</td>\n",
       "      <td>4461.500000</td>\n",
       "      <td>3.438000</td>\n",
       "      <td>0.160300</td>\n",
       "      <td>0.500000</td>\n",
       "      <td>0.0</td>\n",
       "      <td>0.0</td>\n",
       "      <td>0.0</td>\n",
       "      <td>0.0</td>\n",
       "      <td>0.0</td>\n",
       "      <td>0.0</td>\n",
       "      <td>0.0</td>\n",
       "      <td>0.0</td>\n",
       "      <td>0.0</td>\n",
       "      <td>0.0</td>\n",
       "      <td>0.0</td>\n",
       "      <td>...</td>\n",
       "      <td>4414.00</td>\n",
       "      <td>3.427250</td>\n",
       "      <td>0.16575</td>\n",
       "      <td>0.75</td>\n",
       "      <td>0.0</td>\n",
       "      <td>0.0</td>\n",
       "      <td>0.0</td>\n",
       "      <td>0.0</td>\n",
       "      <td>0.0</td>\n",
       "      <td>0.0</td>\n",
       "      <td>0.0</td>\n",
       "      <td>0.0</td>\n",
       "      <td>0.0</td>\n",
       "      <td>0.0</td>\n",
       "      <td>0.0</td>\n",
       "      <td>0.0</td>\n",
       "      <td>0.000000</td>\n",
       "      <td>0.250000</td>\n",
       "      <td>0.0</td>\n",
       "      <td>-16.946800</td>\n",
       "      <td>17.000000</td>\n",
       "      <td>4424.200000</td>\n",
       "      <td>3.419200</td>\n",
       "      <td>0.167920</td>\n",
       "      <td>0.600000</td>\n",
       "      <td>0.0</td>\n",
       "      <td>0.0</td>\n",
       "      <td>0.0</td>\n",
       "      <td>0.0</td>\n",
       "      <td>0.0</td>\n",
       "      <td>0.0</td>\n",
       "      <td>0.0</td>\n",
       "      <td>0.0</td>\n",
       "      <td>0.0</td>\n",
       "      <td>0.0</td>\n",
       "      <td>0.0</td>\n",
       "      <td>0.0</td>\n",
       "      <td>0.200000</td>\n",
       "      <td>0.0</td>\n",
       "      <td>0</td>\n",
       "    </tr>\n",
       "    <tr>\n",
       "      <th>3</th>\n",
       "      <td>Jan</td>\n",
       "      <td>0.0</td>\n",
       "      <td>-17.171000</td>\n",
       "      <td>20.500000</td>\n",
       "      <td>4449.000000</td>\n",
       "      <td>3.400000</td>\n",
       "      <td>0.16</td>\n",
       "      <td>0.500000</td>\n",
       "      <td>0.0</td>\n",
       "      <td>0.0</td>\n",
       "      <td>0.0</td>\n",
       "      <td>0.0</td>\n",
       "      <td>0.0</td>\n",
       "      <td>0.0</td>\n",
       "      <td>0.0</td>\n",
       "      <td>0.0</td>\n",
       "      <td>0.0</td>\n",
       "      <td>0.0</td>\n",
       "      <td>0.0</td>\n",
       "      <td>0.0</td>\n",
       "      <td>0.0</td>\n",
       "      <td>0.500000</td>\n",
       "      <td>0.0</td>\n",
       "      <td>-17.244334</td>\n",
       "      <td>20.00</td>\n",
       "      <td>4463.666667</td>\n",
       "      <td>3.417334</td>\n",
       "      <td>0.162533</td>\n",
       "      <td>0.333333</td>\n",
       "      <td>0.0</td>\n",
       "      <td>0.0</td>\n",
       "      <td>0.0</td>\n",
       "      <td>0.0</td>\n",
       "      <td>0.0</td>\n",
       "      <td>0.0</td>\n",
       "      <td>0.0</td>\n",
       "      <td>0.0</td>\n",
       "      <td>0.0</td>\n",
       "      <td>0.0</td>\n",
       "      <td>0.0</td>\n",
       "      <td>...</td>\n",
       "      <td>4446.80</td>\n",
       "      <td>3.421200</td>\n",
       "      <td>0.16586</td>\n",
       "      <td>0.80</td>\n",
       "      <td>0.0</td>\n",
       "      <td>0.0</td>\n",
       "      <td>0.0</td>\n",
       "      <td>0.0</td>\n",
       "      <td>0.0</td>\n",
       "      <td>0.0</td>\n",
       "      <td>0.0</td>\n",
       "      <td>0.0</td>\n",
       "      <td>0.0</td>\n",
       "      <td>0.0</td>\n",
       "      <td>0.0</td>\n",
       "      <td>0.0</td>\n",
       "      <td>0.000000</td>\n",
       "      <td>0.200000</td>\n",
       "      <td>0.0</td>\n",
       "      <td>-16.937601</td>\n",
       "      <td>17.200000</td>\n",
       "      <td>4415.600000</td>\n",
       "      <td>3.414400</td>\n",
       "      <td>0.166600</td>\n",
       "      <td>0.600000</td>\n",
       "      <td>0.0</td>\n",
       "      <td>0.0</td>\n",
       "      <td>0.0</td>\n",
       "      <td>0.0</td>\n",
       "      <td>0.0</td>\n",
       "      <td>0.0</td>\n",
       "      <td>0.0</td>\n",
       "      <td>0.0</td>\n",
       "      <td>0.0</td>\n",
       "      <td>0.0</td>\n",
       "      <td>0.0</td>\n",
       "      <td>0.0</td>\n",
       "      <td>0.200000</td>\n",
       "      <td>0.2</td>\n",
       "      <td>0</td>\n",
       "    </tr>\n",
       "    <tr>\n",
       "      <th>4</th>\n",
       "      <td>Jan</td>\n",
       "      <td>0.0</td>\n",
       "      <td>-17.441666</td>\n",
       "      <td>20.000000</td>\n",
       "      <td>4490.666667</td>\n",
       "      <td>3.484000</td>\n",
       "      <td>0.16</td>\n",
       "      <td>0.333333</td>\n",
       "      <td>0.0</td>\n",
       "      <td>0.0</td>\n",
       "      <td>0.0</td>\n",
       "      <td>0.0</td>\n",
       "      <td>0.0</td>\n",
       "      <td>0.0</td>\n",
       "      <td>0.0</td>\n",
       "      <td>0.0</td>\n",
       "      <td>0.0</td>\n",
       "      <td>0.0</td>\n",
       "      <td>0.0</td>\n",
       "      <td>0.0</td>\n",
       "      <td>0.0</td>\n",
       "      <td>0.666667</td>\n",
       "      <td>0.0</td>\n",
       "      <td>-17.219749</td>\n",
       "      <td>19.25</td>\n",
       "      <td>4469.750000</td>\n",
       "      <td>3.440500</td>\n",
       "      <td>0.160000</td>\n",
       "      <td>0.500000</td>\n",
       "      <td>0.0</td>\n",
       "      <td>0.0</td>\n",
       "      <td>0.0</td>\n",
       "      <td>0.0</td>\n",
       "      <td>0.0</td>\n",
       "      <td>0.0</td>\n",
       "      <td>0.0</td>\n",
       "      <td>0.0</td>\n",
       "      <td>0.0</td>\n",
       "      <td>0.0</td>\n",
       "      <td>0.0</td>\n",
       "      <td>...</td>\n",
       "      <td>4410.50</td>\n",
       "      <td>3.433333</td>\n",
       "      <td>0.16600</td>\n",
       "      <td>0.50</td>\n",
       "      <td>0.0</td>\n",
       "      <td>0.0</td>\n",
       "      <td>0.0</td>\n",
       "      <td>0.0</td>\n",
       "      <td>0.0</td>\n",
       "      <td>0.0</td>\n",
       "      <td>0.0</td>\n",
       "      <td>0.0</td>\n",
       "      <td>0.0</td>\n",
       "      <td>0.0</td>\n",
       "      <td>0.0</td>\n",
       "      <td>0.0</td>\n",
       "      <td>0.166667</td>\n",
       "      <td>0.166667</td>\n",
       "      <td>0.0</td>\n",
       "      <td>-17.021666</td>\n",
       "      <td>16.166667</td>\n",
       "      <td>4386.333333</td>\n",
       "      <td>3.456667</td>\n",
       "      <td>0.165417</td>\n",
       "      <td>0.333333</td>\n",
       "      <td>0.0</td>\n",
       "      <td>0.0</td>\n",
       "      <td>0.0</td>\n",
       "      <td>0.0</td>\n",
       "      <td>0.0</td>\n",
       "      <td>0.0</td>\n",
       "      <td>0.0</td>\n",
       "      <td>0.0</td>\n",
       "      <td>0.0</td>\n",
       "      <td>0.0</td>\n",
       "      <td>0.0</td>\n",
       "      <td>0.0</td>\n",
       "      <td>0.166667</td>\n",
       "      <td>0.5</td>\n",
       "      <td>0</td>\n",
       "    </tr>\n",
       "  </tbody>\n",
       "</table>\n",
       "<p>5 rows × 107 columns</p>\n",
       "</div>"
      ],
      "text/plain": [
       "  Month  fires_L1_%  tavg_L1_avg  ...  LC82_L5_%  LC90_L5_%  fireCenter\n",
       "0   Jan         0.0   -17.597000  ...   0.200000        0.0           0\n",
       "1   Jan         0.0   -17.503332  ...   0.000000        0.5           0\n",
       "2   Jan         0.0   -17.349333  ...   0.200000        0.0           0\n",
       "3   Jan         0.0   -17.171000  ...   0.200000        0.2           0\n",
       "4   Jan         0.0   -17.441666  ...   0.166667        0.5           0\n",
       "\n",
       "[5 rows x 107 columns]"
      ]
     },
     "metadata": {
      "tags": []
     },
     "execution_count": 4
    }
   ]
  },
  {
   "cell_type": "markdown",
   "metadata": {
    "id": "86j-ElqVWAc0"
   },
   "source": [
    "We'll also split the data into training, validation, and testing from the beginning. This is because when we preprocess, we develop any preprocessing parameters on the training set alone, and then apply it to the validation and testing."
   ]
  },
  {
   "cell_type": "code",
   "metadata": {
    "id": "Mb4iea-uWKHb",
    "colab": {
     "base_uri": "https://localhost:8080/",
     "height": 69
    },
    "outputId": "277e0e50-9dfa-4034-a656-e80d844d4526"
   },
   "source": [
    "X, Y = spatialReg.iloc[:, 1:-1], spatialReg.iloc[:, -1]\n",
    "XTrainVali, XTest, YTrainVali, YTest = train_test_split(X, Y, test_size=0.2)\n",
    "# Split again into training and validation...\n",
    "XTrain, XVali, YTrain, YVali = train_test_split(XTrainVali, YTrainVali, test_size=0.125)\n",
    "print('Training shape:', XTrain.shape)\n",
    "print('Validation shape:', XVali.shape)\n",
    "print('Testing shape:', XTest.shape)"
   ],
   "execution_count": null,
   "outputs": [
    {
     "output_type": "stream",
     "text": [
      "Training shape: (1023976, 105)\n",
      "Validation shape: (146283, 105)\n",
      "Testing shape: (292565, 105)\n"
     ],
     "name": "stdout"
    }
   ]
  },
  {
   "cell_type": "markdown",
   "metadata": {
    "id": "y0YFzj1ZSk6X"
   },
   "source": [
    "## Minor Preprocessing\n",
    "Neural networks don't do too well with large numbers (see solar radiation values...). Thus, we'll apply some basic scaling to the data so that they're between "
   ]
  },
  {
   "cell_type": "code",
   "metadata": {
    "id": "X2yYzAmxUFkV",
    "colab": {
     "base_uri": "https://localhost:8080/",
     "height": 1000
    },
    "outputId": "29bd9251-0b06-4a93-8a64-cfd5cd580dc3"
   },
   "source": [
    "for col in ['tavg_L1_avg', 'prec_L1_avg', 'srad_L1_avg', 'wind_L1_avg', 'vapr_L1_avg']:\n",
    "  print(col)\n",
    "  plt.hist(XTrain[col])\n",
    "  plt.show()"
   ],
   "execution_count": null,
   "outputs": [
    {
     "output_type": "stream",
     "text": [
      "tavg_L1_avg\n"
     ],
     "name": "stdout"
    },
    {
     "output_type": "display_data",
     "data": {
      "image/png": "[encoded data removed]",
      "text/plain": [
       "<Figure size 432x288 with 1 Axes>"
      ]
     },
     "metadata": {
      "tags": [],
      "needs_background": "light"
     }
    },
    {
     "output_type": "stream",
     "text": [
      "prec_L1_avg\n"
     ],
     "name": "stdout"
    },
    {
     "output_type": "display_data",
     "data": {
      "image/png": "[encoded data removed]",
      "text/plain": [
       "<Figure size 432x288 with 1 Axes>"
      ]
     },
     "metadata": {
      "tags": [],
      "needs_background": "light"
     }
    },
    {
     "output_type": "stream",
     "text": [
      "srad_L1_avg\n"
     ],
     "name": "stdout"
    },
    {
     "output_type": "display_data",
     "data": {
      "image/png": "[encoded data removed]",
      "text/plain": [
       "<Figure size 432x288 with 1 Axes>"
      ]
     },
     "metadata": {
      "tags": [],
      "needs_background": "light"
     }
    },
    {
     "output_type": "stream",
     "text": [
      "wind_L1_avg\n"
     ],
     "name": "stdout"
    },
    {
     "output_type": "display_data",
     "data": {
      "image/png": "[encoded data removed]",
      "text/plain": [
       "<Figure size 432x288 with 1 Axes>"
      ]
     },
     "metadata": {
      "tags": [],
      "needs_background": "light"
     }
    },
    {
     "output_type": "stream",
     "text": [
      "vapr_L1_avg\n"
     ],
     "name": "stdout"
    },
    {
     "output_type": "display_data",
     "data": {
      "image/png": "[encoded data removed]",
      "text/plain": [
       "<Figure size 432x288 with 1 Axes>"
      ]
     },
     "metadata": {
      "tags": [],
      "needs_background": "light"
     }
    }
   ]
  },
  {
   "cell_type": "markdown",
   "metadata": {
    "id": "zeczq3K4UMSK"
   },
   "source": [
    "From the above histograms, we can see that wind, solar radiation, and average temperature generally follow a normal-ish distribution so direct standardization should suffice. Average temperature is a stretch However, the other 3 variables show extreme skewness, especially precipitation. We would have to do something different with these variables.\n",
    "\n",
    "A good idea is to use the Box-Cox transformation. This is a type of power transform that's designed to make data more Gaussian-like. However, the Box-Cox only works on strictly positive data. To handle our 0s and negative data, we'll use another one called **Yeo-Johnson** transformation.\n",
    "\n",
    "The Yeo-Johnson isn't completely superior to Box-Cox, as interpretablitiy takes a huge hit with the former. However, we won't be examining the data after the fact anyway, so we're fine. Scikit-learn has the implementation."
   ]
  },
  {
   "cell_type": "markdown",
   "metadata": {
    "id": "7fbAJ498VuGs"
   },
   "source": [
    "#### Yeo-Johnson Transformation"
   ]
  },
  {
   "cell_type": "code",
   "metadata": {
    "id": "Lzv1pkRKPEq_",
    "colab": {
     "base_uri": "https://localhost:8080/",
     "height": 251
    },
    "outputId": "9078174e-5515-4260-cc17-216c397a929f"
   },
   "source": [
    "from sklearn.preprocessing import PowerTransformer\n",
    "pt = PowerTransformer(method='yeo-johnson')\n",
    "# We fit on the metrics...\n",
    "metricPTData = pt.fit_transform(XTrain.loc[:, metricColumns])\n",
    "XTrainPT = XTrain.copy()\n",
    "XTrainPT.loc[:, metricColumns] = metricPTData\n",
    "XTrainPT.head()"
   ],
   "execution_count": null,
   "outputs": [
    {
     "output_type": "execute_result",
     "data": {
      "text/html": [
       "<div>\n",
       "<style scoped>\n",
       "    .dataframe tbody tr th:only-of-type {\n",
       "        vertical-align: middle;\n",
       "    }\n",
       "\n",
       "    .dataframe tbody tr th {\n",
       "        vertical-align: top;\n",
       "    }\n",
       "\n",
       "    .dataframe thead th {\n",
       "        text-align: right;\n",
       "    }\n",
       "</style>\n",
       "<table border=\"1\" class=\"dataframe\">\n",
       "  <thead>\n",
       "    <tr style=\"text-align: right;\">\n",
       "      <th></th>\n",
       "      <th>fires_L1_%</th>\n",
       "      <th>tavg_L1_avg</th>\n",
       "      <th>prec_L1_avg</th>\n",
       "      <th>srad_L1_avg</th>\n",
       "      <th>wind_L1_avg</th>\n",
       "      <th>vapr_L1_avg</th>\n",
       "      <th>LC11_L1_%</th>\n",
       "      <th>LC12_L1_%</th>\n",
       "      <th>LC21_L1_%</th>\n",
       "      <th>LC22_L1_%</th>\n",
       "      <th>LC23_L1_%</th>\n",
       "      <th>LC24_L1_%</th>\n",
       "      <th>LC31_L1_%</th>\n",
       "      <th>LC41_L1_%</th>\n",
       "      <th>LC42_L1_%</th>\n",
       "      <th>LC43_L1_%</th>\n",
       "      <th>LC52_L1_%</th>\n",
       "      <th>LC71_L1_%</th>\n",
       "      <th>LC81_L1_%</th>\n",
       "      <th>LC82_L1_%</th>\n",
       "      <th>LC90_L1_%</th>\n",
       "      <th>fires_L2_%</th>\n",
       "      <th>tavg_L2_avg</th>\n",
       "      <th>prec_L2_avg</th>\n",
       "      <th>srad_L2_avg</th>\n",
       "      <th>wind_L2_avg</th>\n",
       "      <th>vapr_L2_avg</th>\n",
       "      <th>LC11_L2_%</th>\n",
       "      <th>LC12_L2_%</th>\n",
       "      <th>LC21_L2_%</th>\n",
       "      <th>LC22_L2_%</th>\n",
       "      <th>LC23_L2_%</th>\n",
       "      <th>LC24_L2_%</th>\n",
       "      <th>LC31_L2_%</th>\n",
       "      <th>LC41_L2_%</th>\n",
       "      <th>LC42_L2_%</th>\n",
       "      <th>LC43_L2_%</th>\n",
       "      <th>LC52_L2_%</th>\n",
       "      <th>LC71_L2_%</th>\n",
       "      <th>LC81_L2_%</th>\n",
       "      <th>...</th>\n",
       "      <th>prec_L4_avg</th>\n",
       "      <th>srad_L4_avg</th>\n",
       "      <th>wind_L4_avg</th>\n",
       "      <th>vapr_L4_avg</th>\n",
       "      <th>LC11_L4_%</th>\n",
       "      <th>LC12_L4_%</th>\n",
       "      <th>LC21_L4_%</th>\n",
       "      <th>LC22_L4_%</th>\n",
       "      <th>LC23_L4_%</th>\n",
       "      <th>LC24_L4_%</th>\n",
       "      <th>LC31_L4_%</th>\n",
       "      <th>LC41_L4_%</th>\n",
       "      <th>LC42_L4_%</th>\n",
       "      <th>LC43_L4_%</th>\n",
       "      <th>LC52_L4_%</th>\n",
       "      <th>LC71_L4_%</th>\n",
       "      <th>LC81_L4_%</th>\n",
       "      <th>LC82_L4_%</th>\n",
       "      <th>LC90_L4_%</th>\n",
       "      <th>fires_L5_%</th>\n",
       "      <th>tavg_L5_avg</th>\n",
       "      <th>prec_L5_avg</th>\n",
       "      <th>srad_L5_avg</th>\n",
       "      <th>wind_L5_avg</th>\n",
       "      <th>vapr_L5_avg</th>\n",
       "      <th>LC11_L5_%</th>\n",
       "      <th>LC12_L5_%</th>\n",
       "      <th>LC21_L5_%</th>\n",
       "      <th>LC22_L5_%</th>\n",
       "      <th>LC23_L5_%</th>\n",
       "      <th>LC24_L5_%</th>\n",
       "      <th>LC31_L5_%</th>\n",
       "      <th>LC41_L5_%</th>\n",
       "      <th>LC42_L5_%</th>\n",
       "      <th>LC43_L5_%</th>\n",
       "      <th>LC52_L5_%</th>\n",
       "      <th>LC71_L5_%</th>\n",
       "      <th>LC81_L5_%</th>\n",
       "      <th>LC82_L5_%</th>\n",
       "      <th>LC90_L5_%</th>\n",
       "    </tr>\n",
       "  </thead>\n",
       "  <tbody>\n",
       "    <tr>\n",
       "      <th>590421</th>\n",
       "      <td>0.25</td>\n",
       "      <td>0.717322</td>\n",
       "      <td>-1.607143</td>\n",
       "      <td>1.467959</td>\n",
       "      <td>0.045338</td>\n",
       "      <td>0.113939</td>\n",
       "      <td>0.0</td>\n",
       "      <td>0.0</td>\n",
       "      <td>0.0</td>\n",
       "      <td>0.0</td>\n",
       "      <td>0.0</td>\n",
       "      <td>0.0</td>\n",
       "      <td>0.0</td>\n",
       "      <td>0.0</td>\n",
       "      <td>0.0</td>\n",
       "      <td>0.0</td>\n",
       "      <td>0.75</td>\n",
       "      <td>0.25</td>\n",
       "      <td>0.00</td>\n",
       "      <td>0.0</td>\n",
       "      <td>0.0</td>\n",
       "      <td>0.750</td>\n",
       "      <td>0.661840</td>\n",
       "      <td>-1.580114</td>\n",
       "      <td>1.465667</td>\n",
       "      <td>0.082015</td>\n",
       "      <td>0.073186</td>\n",
       "      <td>0.000</td>\n",
       "      <td>0.0</td>\n",
       "      <td>0.000</td>\n",
       "      <td>0.0</td>\n",
       "      <td>0.0</td>\n",
       "      <td>0.0</td>\n",
       "      <td>0.25</td>\n",
       "      <td>0.000</td>\n",
       "      <td>0.000</td>\n",
       "      <td>0.000</td>\n",
       "      <td>0.75</td>\n",
       "      <td>0.000</td>\n",
       "      <td>0.00</td>\n",
       "      <td>...</td>\n",
       "      <td>-1.727821</td>\n",
       "      <td>1.467742</td>\n",
       "      <td>0.002637</td>\n",
       "      <td>0.191250</td>\n",
       "      <td>0.0000</td>\n",
       "      <td>0.0</td>\n",
       "      <td>0.0000</td>\n",
       "      <td>0.0000</td>\n",
       "      <td>0.0</td>\n",
       "      <td>0.0</td>\n",
       "      <td>0.25</td>\n",
       "      <td>0.0000</td>\n",
       "      <td>0.0625</td>\n",
       "      <td>0.000</td>\n",
       "      <td>0.5625</td>\n",
       "      <td>0.1250</td>\n",
       "      <td>0.0000</td>\n",
       "      <td>0.0000</td>\n",
       "      <td>0.0</td>\n",
       "      <td>0.8</td>\n",
       "      <td>0.849667</td>\n",
       "      <td>-1.775783</td>\n",
       "      <td>1.462141</td>\n",
       "      <td>-0.049573</td>\n",
       "      <td>0.277223</td>\n",
       "      <td>0.00</td>\n",
       "      <td>0.0</td>\n",
       "      <td>0.00</td>\n",
       "      <td>0.05</td>\n",
       "      <td>0.05</td>\n",
       "      <td>0.0</td>\n",
       "      <td>0.1</td>\n",
       "      <td>0.0</td>\n",
       "      <td>0.05</td>\n",
       "      <td>0.05</td>\n",
       "      <td>0.45</td>\n",
       "      <td>0.15</td>\n",
       "      <td>0.0</td>\n",
       "      <td>0.10</td>\n",
       "      <td>0.00</td>\n",
       "    </tr>\n",
       "    <tr>\n",
       "      <th>551107</th>\n",
       "      <td>0.25</td>\n",
       "      <td>0.035012</td>\n",
       "      <td>-0.741661</td>\n",
       "      <td>1.113341</td>\n",
       "      <td>-0.450696</td>\n",
       "      <td>-0.068690</td>\n",
       "      <td>0.0</td>\n",
       "      <td>0.0</td>\n",
       "      <td>0.5</td>\n",
       "      <td>0.0</td>\n",
       "      <td>0.0</td>\n",
       "      <td>0.0</td>\n",
       "      <td>0.0</td>\n",
       "      <td>0.0</td>\n",
       "      <td>0.5</td>\n",
       "      <td>0.0</td>\n",
       "      <td>0.00</td>\n",
       "      <td>0.00</td>\n",
       "      <td>0.00</td>\n",
       "      <td>0.0</td>\n",
       "      <td>0.0</td>\n",
       "      <td>0.375</td>\n",
       "      <td>0.204201</td>\n",
       "      <td>-1.028412</td>\n",
       "      <td>1.134840</td>\n",
       "      <td>-0.427901</td>\n",
       "      <td>0.089441</td>\n",
       "      <td>0.000</td>\n",
       "      <td>0.0</td>\n",
       "      <td>0.000</td>\n",
       "      <td>0.0</td>\n",
       "      <td>0.0</td>\n",
       "      <td>0.0</td>\n",
       "      <td>0.00</td>\n",
       "      <td>0.000</td>\n",
       "      <td>0.250</td>\n",
       "      <td>0.125</td>\n",
       "      <td>0.50</td>\n",
       "      <td>0.125</td>\n",
       "      <td>0.00</td>\n",
       "      <td>...</td>\n",
       "      <td>-1.182274</td>\n",
       "      <td>1.151364</td>\n",
       "      <td>-0.406239</td>\n",
       "      <td>0.206232</td>\n",
       "      <td>0.0000</td>\n",
       "      <td>0.0</td>\n",
       "      <td>0.0000</td>\n",
       "      <td>0.0000</td>\n",
       "      <td>0.0</td>\n",
       "      <td>0.0</td>\n",
       "      <td>0.00</td>\n",
       "      <td>0.0625</td>\n",
       "      <td>0.1875</td>\n",
       "      <td>0.000</td>\n",
       "      <td>0.4375</td>\n",
       "      <td>0.3125</td>\n",
       "      <td>0.0000</td>\n",
       "      <td>0.0000</td>\n",
       "      <td>0.0</td>\n",
       "      <td>0.6</td>\n",
       "      <td>0.375398</td>\n",
       "      <td>-1.136478</td>\n",
       "      <td>1.152242</td>\n",
       "      <td>-0.377032</td>\n",
       "      <td>0.247642</td>\n",
       "      <td>0.05</td>\n",
       "      <td>0.0</td>\n",
       "      <td>0.00</td>\n",
       "      <td>0.00</td>\n",
       "      <td>0.00</td>\n",
       "      <td>0.0</td>\n",
       "      <td>0.0</td>\n",
       "      <td>0.0</td>\n",
       "      <td>0.25</td>\n",
       "      <td>0.00</td>\n",
       "      <td>0.45</td>\n",
       "      <td>0.25</td>\n",
       "      <td>0.0</td>\n",
       "      <td>0.00</td>\n",
       "      <td>0.00</td>\n",
       "    </tr>\n",
       "    <tr>\n",
       "      <th>254538</th>\n",
       "      <td>0.00</td>\n",
       "      <td>-0.930255</td>\n",
       "      <td>-1.150888</td>\n",
       "      <td>-0.292139</td>\n",
       "      <td>0.774633</td>\n",
       "      <td>-1.040531</td>\n",
       "      <td>0.0</td>\n",
       "      <td>0.0</td>\n",
       "      <td>0.0</td>\n",
       "      <td>0.0</td>\n",
       "      <td>0.0</td>\n",
       "      <td>0.0</td>\n",
       "      <td>0.0</td>\n",
       "      <td>0.0</td>\n",
       "      <td>0.0</td>\n",
       "      <td>0.0</td>\n",
       "      <td>0.25</td>\n",
       "      <td>0.75</td>\n",
       "      <td>0.00</td>\n",
       "      <td>0.0</td>\n",
       "      <td>0.0</td>\n",
       "      <td>0.000</td>\n",
       "      <td>-0.940832</td>\n",
       "      <td>-1.137915</td>\n",
       "      <td>-0.296015</td>\n",
       "      <td>0.785858</td>\n",
       "      <td>-1.058961</td>\n",
       "      <td>0.000</td>\n",
       "      <td>0.0</td>\n",
       "      <td>0.000</td>\n",
       "      <td>0.0</td>\n",
       "      <td>0.0</td>\n",
       "      <td>0.0</td>\n",
       "      <td>0.00</td>\n",
       "      <td>0.000</td>\n",
       "      <td>0.000</td>\n",
       "      <td>0.000</td>\n",
       "      <td>0.25</td>\n",
       "      <td>0.625</td>\n",
       "      <td>0.00</td>\n",
       "      <td>...</td>\n",
       "      <td>-1.154778</td>\n",
       "      <td>-0.295167</td>\n",
       "      <td>0.796873</td>\n",
       "      <td>-1.063481</td>\n",
       "      <td>0.0000</td>\n",
       "      <td>0.0</td>\n",
       "      <td>0.0000</td>\n",
       "      <td>0.0625</td>\n",
       "      <td>0.0</td>\n",
       "      <td>0.0</td>\n",
       "      <td>0.00</td>\n",
       "      <td>0.0000</td>\n",
       "      <td>0.0625</td>\n",
       "      <td>0.000</td>\n",
       "      <td>0.2500</td>\n",
       "      <td>0.3125</td>\n",
       "      <td>0.0000</td>\n",
       "      <td>0.3125</td>\n",
       "      <td>0.0</td>\n",
       "      <td>0.0</td>\n",
       "      <td>-0.950677</td>\n",
       "      <td>-1.172749</td>\n",
       "      <td>-0.292660</td>\n",
       "      <td>0.791191</td>\n",
       "      <td>-1.059870</td>\n",
       "      <td>0.00</td>\n",
       "      <td>0.0</td>\n",
       "      <td>0.00</td>\n",
       "      <td>0.00</td>\n",
       "      <td>0.00</td>\n",
       "      <td>0.0</td>\n",
       "      <td>0.0</td>\n",
       "      <td>0.0</td>\n",
       "      <td>0.10</td>\n",
       "      <td>0.00</td>\n",
       "      <td>0.45</td>\n",
       "      <td>0.40</td>\n",
       "      <td>0.0</td>\n",
       "      <td>0.05</td>\n",
       "      <td>0.00</td>\n",
       "    </tr>\n",
       "    <tr>\n",
       "      <th>1385667</th>\n",
       "      <td>0.00</td>\n",
       "      <td>-1.484961</td>\n",
       "      <td>-1.607143</td>\n",
       "      <td>-1.402182</td>\n",
       "      <td>1.157328</td>\n",
       "      <td>-1.409592</td>\n",
       "      <td>0.0</td>\n",
       "      <td>0.0</td>\n",
       "      <td>0.0</td>\n",
       "      <td>0.0</td>\n",
       "      <td>0.0</td>\n",
       "      <td>0.0</td>\n",
       "      <td>0.0</td>\n",
       "      <td>0.0</td>\n",
       "      <td>0.0</td>\n",
       "      <td>0.0</td>\n",
       "      <td>0.00</td>\n",
       "      <td>1.00</td>\n",
       "      <td>0.00</td>\n",
       "      <td>0.0</td>\n",
       "      <td>0.0</td>\n",
       "      <td>0.000</td>\n",
       "      <td>-1.479671</td>\n",
       "      <td>-1.605552</td>\n",
       "      <td>-1.401658</td>\n",
       "      <td>1.145098</td>\n",
       "      <td>-1.410696</td>\n",
       "      <td>0.000</td>\n",
       "      <td>0.0</td>\n",
       "      <td>0.000</td>\n",
       "      <td>0.0</td>\n",
       "      <td>0.0</td>\n",
       "      <td>0.0</td>\n",
       "      <td>0.00</td>\n",
       "      <td>0.000</td>\n",
       "      <td>0.000</td>\n",
       "      <td>0.000</td>\n",
       "      <td>0.00</td>\n",
       "      <td>1.000</td>\n",
       "      <td>0.00</td>\n",
       "      <td>...</td>\n",
       "      <td>-1.602324</td>\n",
       "      <td>-1.400403</td>\n",
       "      <td>1.142905</td>\n",
       "      <td>-1.414981</td>\n",
       "      <td>0.1250</td>\n",
       "      <td>0.0</td>\n",
       "      <td>0.0000</td>\n",
       "      <td>0.0000</td>\n",
       "      <td>0.0</td>\n",
       "      <td>0.0</td>\n",
       "      <td>0.00</td>\n",
       "      <td>0.0000</td>\n",
       "      <td>0.0000</td>\n",
       "      <td>0.000</td>\n",
       "      <td>0.0000</td>\n",
       "      <td>0.8125</td>\n",
       "      <td>0.0625</td>\n",
       "      <td>0.0000</td>\n",
       "      <td>0.0</td>\n",
       "      <td>0.0</td>\n",
       "      <td>-1.451499</td>\n",
       "      <td>-1.594124</td>\n",
       "      <td>-1.400054</td>\n",
       "      <td>1.143664</td>\n",
       "      <td>-1.411100</td>\n",
       "      <td>0.00</td>\n",
       "      <td>0.0</td>\n",
       "      <td>0.00</td>\n",
       "      <td>0.00</td>\n",
       "      <td>0.00</td>\n",
       "      <td>0.0</td>\n",
       "      <td>0.0</td>\n",
       "      <td>0.0</td>\n",
       "      <td>0.00</td>\n",
       "      <td>0.00</td>\n",
       "      <td>0.00</td>\n",
       "      <td>0.90</td>\n",
       "      <td>0.0</td>\n",
       "      <td>0.00</td>\n",
       "      <td>0.00</td>\n",
       "    </tr>\n",
       "    <tr>\n",
       "      <th>346506</th>\n",
       "      <td>1.00</td>\n",
       "      <td>0.159397</td>\n",
       "      <td>1.450152</td>\n",
       "      <td>0.080257</td>\n",
       "      <td>-0.576562</td>\n",
       "      <td>0.272827</td>\n",
       "      <td>0.0</td>\n",
       "      <td>0.0</td>\n",
       "      <td>0.0</td>\n",
       "      <td>0.0</td>\n",
       "      <td>0.0</td>\n",
       "      <td>0.0</td>\n",
       "      <td>0.0</td>\n",
       "      <td>0.5</td>\n",
       "      <td>0.0</td>\n",
       "      <td>0.0</td>\n",
       "      <td>0.00</td>\n",
       "      <td>0.25</td>\n",
       "      <td>0.25</td>\n",
       "      <td>0.0</td>\n",
       "      <td>0.0</td>\n",
       "      <td>1.000</td>\n",
       "      <td>0.162218</td>\n",
       "      <td>1.452766</td>\n",
       "      <td>0.079483</td>\n",
       "      <td>-0.578712</td>\n",
       "      <td>0.272663</td>\n",
       "      <td>0.125</td>\n",
       "      <td>0.0</td>\n",
       "      <td>0.125</td>\n",
       "      <td>0.0</td>\n",
       "      <td>0.0</td>\n",
       "      <td>0.0</td>\n",
       "      <td>0.00</td>\n",
       "      <td>0.125</td>\n",
       "      <td>0.125</td>\n",
       "      <td>0.125</td>\n",
       "      <td>0.00</td>\n",
       "      <td>0.000</td>\n",
       "      <td>0.25</td>\n",
       "      <td>...</td>\n",
       "      <td>1.458608</td>\n",
       "      <td>0.076834</td>\n",
       "      <td>-0.578201</td>\n",
       "      <td>0.271247</td>\n",
       "      <td>0.0625</td>\n",
       "      <td>0.0</td>\n",
       "      <td>0.0625</td>\n",
       "      <td>0.0000</td>\n",
       "      <td>0.0</td>\n",
       "      <td>0.0</td>\n",
       "      <td>0.00</td>\n",
       "      <td>0.1875</td>\n",
       "      <td>0.1250</td>\n",
       "      <td>0.125</td>\n",
       "      <td>0.0625</td>\n",
       "      <td>0.0625</td>\n",
       "      <td>0.3125</td>\n",
       "      <td>0.0000</td>\n",
       "      <td>0.0</td>\n",
       "      <td>1.0</td>\n",
       "      <td>0.162711</td>\n",
       "      <td>1.460107</td>\n",
       "      <td>0.077542</td>\n",
       "      <td>-0.582744</td>\n",
       "      <td>0.269780</td>\n",
       "      <td>0.05</td>\n",
       "      <td>0.0</td>\n",
       "      <td>0.05</td>\n",
       "      <td>0.00</td>\n",
       "      <td>0.00</td>\n",
       "      <td>0.0</td>\n",
       "      <td>0.0</td>\n",
       "      <td>0.2</td>\n",
       "      <td>0.20</td>\n",
       "      <td>0.10</td>\n",
       "      <td>0.05</td>\n",
       "      <td>0.10</td>\n",
       "      <td>0.2</td>\n",
       "      <td>0.00</td>\n",
       "      <td>0.05</td>\n",
       "    </tr>\n",
       "  </tbody>\n",
       "</table>\n",
       "<p>5 rows × 105 columns</p>\n",
       "</div>"
      ],
      "text/plain": [
       "         fires_L1_%  tavg_L1_avg  prec_L1_avg  ...  LC81_L5_%  LC82_L5_%  LC90_L5_%\n",
       "590421         0.25     0.717322    -1.607143  ...        0.0       0.10       0.00\n",
       "551107         0.25     0.035012    -0.741661  ...        0.0       0.00       0.00\n",
       "254538         0.00    -0.930255    -1.150888  ...        0.0       0.05       0.00\n",
       "1385667        0.00    -1.484961    -1.607143  ...        0.0       0.00       0.00\n",
       "346506         1.00     0.159397     1.450152  ...        0.2       0.00       0.05\n",
       "\n",
       "[5 rows x 105 columns]"
      ]
     },
     "metadata": {
      "tags": []
     },
     "execution_count": 7
    }
   ]
  },
  {
   "cell_type": "code",
   "metadata": {
    "id": "ZLfhPpgDUq4x",
    "colab": {
     "base_uri": "https://localhost:8080/",
     "height": 1000
    },
    "outputId": "f07310f2-5ade-4fc0-d280-877d12b081d9"
   },
   "source": [
    "for col in ['tavg_L1_avg', 'prec_L1_avg', 'srad_L1_avg', 'wind_L1_avg', 'vapr_L1_avg']:\n",
    "  print(col)\n",
    "  plt.hist(XTrainPT[col])\n",
    "  plt.show()"
   ],
   "execution_count": null,
   "outputs": [
    {
     "output_type": "stream",
     "text": [
      "tavg_L1_avg\n"
     ],
     "name": "stdout"
    },
    {
     "output_type": "display_data",
     "data": {
      "image/png": "[encoded data removed]",
      "text/plain": [
       "<Figure size 432x288 with 1 Axes>"
      ]
     },
     "metadata": {
      "tags": [],
      "needs_background": "light"
     }
    },
    {
     "output_type": "stream",
     "text": [
      "prec_L1_avg\n"
     ],
     "name": "stdout"
    },
    {
     "output_type": "display_data",
     "data": {
      "image/png": "[encoded data removed]",
      "text/plain": [
       "<Figure size 432x288 with 1 Axes>"
      ]
     },
     "metadata": {
      "tags": [],
      "needs_background": "light"
     }
    },
    {
     "output_type": "stream",
     "text": [
      "srad_L1_avg\n"
     ],
     "name": "stdout"
    },
    {
     "output_type": "display_data",
     "data": {
      "image/png": "[encoded data removed]",
      "text/plain": [
       "<Figure size 432x288 with 1 Axes>"
      ]
     },
     "metadata": {
      "tags": [],
      "needs_background": "light"
     }
    },
    {
     "output_type": "stream",
     "text": [
      "wind_L1_avg\n"
     ],
     "name": "stdout"
    },
    {
     "output_type": "display_data",
     "data": {
      "image/png": "[encoded data removed]",
      "text/plain": [
       "<Figure size 432x288 with 1 Axes>"
      ]
     },
     "metadata": {
      "tags": [],
      "needs_background": "light"
     }
    },
    {
     "output_type": "stream",
     "text": [
      "vapr_L1_avg\n"
     ],
     "name": "stdout"
    },
    {
     "output_type": "display_data",
     "data": {
      "image/png": "[encoded data removed]",
      "text/plain": [
       "<Figure size 432x288 with 1 Axes>"
      ]
     },
     "metadata": {
      "tags": [],
      "needs_background": "light"
     }
    }
   ]
  },
  {
   "cell_type": "markdown",
   "metadata": {
    "id": "dcWF8aAzU8qk"
   },
   "source": [
    "The distributions look much better :) Next, we simply apply this to the validation and testing data!"
   ]
  },
  {
   "cell_type": "markdown",
   "metadata": {
    "id": "M1QYEZvGeo7G"
   },
   "source": [
    "#### Applying Transformation to Validation and Testing"
   ]
  },
  {
   "cell_type": "code",
   "metadata": {
    "id": "iOsJJaGDeutG"
   },
   "source": [
    "# Validation\n",
    "metricPTData = pt.transform(XVali.loc[:, metricColumns])\n",
    "XValiPT = XVali.copy()\n",
    "XValiPT.loc[:, metricColumns] = metricPTData\n",
    "\n",
    "# Testing\n",
    "metricPTData = pt.transform(XTest.loc[:, metricColumns])\n",
    "XTestPT = XTest.copy()\n",
    "XTestPT.loc[:, metricColumns] = metricPTData"
   ],
   "execution_count": null,
   "outputs": []
  },
  {
   "cell_type": "markdown",
   "metadata": {
    "id": "ww5STB1hfBp5"
   },
   "source": [
    "### Model Building\n",
    "Our model will be simple: Just 3 Dense layers, and one output layer with 1 neuron, since we're doing binary classification. As with logistic regression, we'll start with lag 1 data, then do lag 5 data. Because the lag 5 data has more features, there will be more parameters in that model."
   ]
  },
  {
   "cell_type": "markdown",
   "metadata": {
    "id": "dtHdjqV6fD2a"
   },
   "source": [
    "#### Lag of 1"
   ]
  },
  {
   "cell_type": "code",
   "metadata": {
    "id": "548xhqZwgAUi",
    "colab": {
     "base_uri": "https://localhost:8080/",
     "height": 35
    },
    "outputId": "a1e01960-8204-4f96-dcad-2f177816bebb"
   },
   "source": [
    "# Get columns for lag 1...\n",
    "lag1Columns = [col for col in spatialReg.columns if 'L1' in col]\n",
    "L1Train = XTrainPT.loc[:, lag1Columns]\n",
    "L1Vali = XValiPT.loc[:, lag1Columns]\n",
    "L1Test = XTestPT.loc[:, lag1Columns]\n",
    "print('Number of features:', L1Train.shape[1])"
   ],
   "execution_count": null,
   "outputs": [
    {
     "output_type": "stream",
     "text": [
      "Number of features: 21\n"
     ],
     "name": "stdout"
    }
   ]
  },
  {
   "cell_type": "markdown",
   "metadata": {
    "id": "FuDDlelLgHsg"
   },
   "source": [
    "With 21 features, our three layers can have 20, 15, and 10 neurons each."
   ]
  },
  {
   "cell_type": "code",
   "metadata": {
    "id": "jqG0C74agb88",
    "colab": {
     "base_uri": "https://localhost:8080/",
     "height": 295
    },
    "outputId": "026ab198-b554-487e-9e20-c4dd8af89908"
   },
   "source": [
    "model = Sequential()\n",
    "model.add(layers.Dense(20, activation='relu', input_shape=(21,)))\n",
    "model.add(layers.Dense(15, activation='relu'))\n",
    "model.add(layers.Dense(10, activation='relu'))\n",
    "model.add(layers.Dense(1, activation='sigmoid'))  # Output!\n",
    "\n",
    "model.summary()"
   ],
   "execution_count": null,
   "outputs": [
    {
     "output_type": "stream",
     "text": [
      "Model: \"sequential\"\n",
      "_________________________________________________________________\n",
      "Layer (type)                 Output Shape              Param #   \n",
      "=================================================================\n",
      "dense (Dense)                (None, 20)                440       \n",
      "_________________________________________________________________\n",
      "dense_1 (Dense)              (None, 15)                315       \n",
      "_________________________________________________________________\n",
      "dense_2 (Dense)              (None, 10)                160       \n",
      "_________________________________________________________________\n",
      "dense_3 (Dense)              (None, 1)                 11        \n",
      "=================================================================\n",
      "Total params: 926\n",
      "Trainable params: 926\n",
      "Non-trainable params: 0\n",
      "_________________________________________________________________\n"
     ],
     "name": "stdout"
    }
   ]
  },
  {
   "cell_type": "code",
   "metadata": {
    "id": "36zvEaX7g2Go",
    "colab": {
     "base_uri": "https://localhost:8080/",
     "height": 728
    },
    "outputId": "6deb2353-82fc-4e57-9ef1-4fc15aa8d6e4"
   },
   "source": [
    "model.compile(optimizer='adam', loss='binary_crossentropy', metrics=['acc'])\n",
    "model.fit(L1Train, YTrain, batch_size=64, epochs=20, validation_data=(L1Vali, YVali))"
   ],
   "execution_count": null,
   "outputs": [
    {
     "output_type": "stream",
     "text": [
      "Epoch 1/20\n",
      "16000/16000 [==============================] - 24s 2ms/step - loss: 0.3565 - acc: 0.8460 - val_loss: 0.3507 - val_acc: 0.8495\n",
      "Epoch 2/20\n",
      "16000/16000 [==============================] - 25s 2ms/step - loss: 0.3515 - acc: 0.8483 - val_loss: 0.3507 - val_acc: 0.8495\n",
      "Epoch 3/20\n",
      "16000/16000 [==============================] - 24s 2ms/step - loss: 0.3506 - acc: 0.8487 - val_loss: 0.3519 - val_acc: 0.8479\n",
      "Epoch 4/20\n",
      "16000/16000 [==============================] - 24s 2ms/step - loss: 0.3501 - acc: 0.8488 - val_loss: 0.3494 - val_acc: 0.8497\n",
      "Epoch 5/20\n",
      "16000/16000 [==============================] - 24s 2ms/step - loss: 0.3498 - acc: 0.8488 - val_loss: 0.3486 - val_acc: 0.8500\n",
      "Epoch 6/20\n",
      "16000/16000 [==============================] - 24s 2ms/step - loss: 0.3495 - acc: 0.8491 - val_loss: 0.3487 - val_acc: 0.8500\n",
      "Epoch 7/20\n",
      "16000/16000 [==============================] - 24s 2ms/step - loss: 0.3493 - acc: 0.8490 - val_loss: 0.3492 - val_acc: 0.8496\n",
      "Epoch 8/20\n",
      "16000/16000 [==============================] - 24s 2ms/step - loss: 0.3490 - acc: 0.8491 - val_loss: 0.3489 - val_acc: 0.8497\n",
      "Epoch 9/20\n",
      "16000/16000 [==============================] - 24s 2ms/step - loss: 0.3489 - acc: 0.8492 - val_loss: 0.3485 - val_acc: 0.8498\n",
      "Epoch 10/20\n",
      "16000/16000 [==============================] - 24s 2ms/step - loss: 0.3487 - acc: 0.8493 - val_loss: 0.3481 - val_acc: 0.8500\n",
      "Epoch 11/20\n",
      "16000/16000 [==============================] - 24s 2ms/step - loss: 0.3486 - acc: 0.8493 - val_loss: 0.3479 - val_acc: 0.8502\n",
      "Epoch 12/20\n",
      "16000/16000 [==============================] - 25s 2ms/step - loss: 0.3485 - acc: 0.8494 - val_loss: 0.3484 - val_acc: 0.8504\n",
      "Epoch 13/20\n",
      "16000/16000 [==============================] - 24s 2ms/step - loss: 0.3484 - acc: 0.8492 - val_loss: 0.3486 - val_acc: 0.8499\n",
      "Epoch 14/20\n",
      "16000/16000 [==============================] - 25s 2ms/step - loss: 0.3483 - acc: 0.8494 - val_loss: 0.3486 - val_acc: 0.8494\n",
      "Epoch 15/20\n",
      "16000/16000 [==============================] - 24s 2ms/step - loss: 0.3481 - acc: 0.8495 - val_loss: 0.3481 - val_acc: 0.8499\n",
      "Epoch 16/20\n",
      "16000/16000 [==============================] - 24s 2ms/step - loss: 0.3481 - acc: 0.8496 - val_loss: 0.3476 - val_acc: 0.8499\n",
      "Epoch 17/20\n",
      "16000/16000 [==============================] - 24s 2ms/step - loss: 0.3480 - acc: 0.8495 - val_loss: 0.3479 - val_acc: 0.8501\n",
      "Epoch 18/20\n",
      "16000/16000 [==============================] - 24s 2ms/step - loss: 0.3480 - acc: 0.8496 - val_loss: 0.3476 - val_acc: 0.8501\n",
      "Epoch 19/20\n",
      "16000/16000 [==============================] - 24s 2ms/step - loss: 0.3480 - acc: 0.8495 - val_loss: 0.3480 - val_acc: 0.8502\n",
      "Epoch 20/20\n",
      "16000/16000 [==============================] - 24s 2ms/step - loss: 0.3478 - acc: 0.8495 - val_loss: 0.3484 - val_acc: 0.8497\n"
     ],
     "name": "stdout"
    },
    {
     "output_type": "execute_result",
     "data": {
      "text/plain": [
       "<tensorflow.python.keras.callbacks.History at 0x7efe4a8eae10>"
      ]
     },
     "metadata": {
      "tags": []
     },
     "execution_count": 12
    }
   ]
  },
  {
   "cell_type": "markdown",
   "metadata": {
    "id": "0ElOBtfui7vH"
   },
   "source": [
    "Initial results are not encouraging..."
   ]
  },
  {
   "cell_type": "code",
   "metadata": {
    "id": "eOFBYOYEhQH2"
   },
   "source": [
    "def reportStats(predictions, targets, return_vals=False):\n",
    "  N = len(predictions)\n",
    "  TP = sum((predictions == 1) & (targets == 1))\n",
    "  TN = sum((predictions == 0) & (targets == 0))\n",
    "  FP = sum((predictions == 1) & (targets == 0))\n",
    "  FN = sum((predictions == 0) & (targets == 1))\n",
    "  accuracy = (TP + TN) / N\n",
    "  precision = TP / (TP + FP)\n",
    "  recall = TP / (TP + FN)\n",
    "  f1 = 2 * precision * recall / (precision + recall)\n",
    "  print('Accuracy: {}\\nPrecision: {}\\nRecall: {}\\nF1: {}'.format(accuracy, precision, recall, f1))\n",
    "  if return_vals:\n",
    "    return accuracy, precision, recall, f1"
   ],
   "execution_count": null,
   "outputs": []
  },
  {
   "cell_type": "code",
   "metadata": {
    "id": "Vnb5QamBi0f3"
   },
   "source": [
    "predictions = model.predict(L1Test).ravel()\n",
    "predictions[predictions < 0.5] = 0\n",
    "predictions[predictions >= 0.5] = 1"
   ],
   "execution_count": null,
   "outputs": []
  },
  {
   "cell_type": "code",
   "metadata": {
    "id": "bhYpX6YJjCOe",
    "colab": {
     "base_uri": "https://localhost:8080/",
     "height": 104
    },
    "outputId": "c3141955-5b45-459b-c4f1-c9e777c89a7a"
   },
   "source": [
    "reportStats(predictions, YTest)\n",
    "print('All 0 accuracy:', 1 - np.mean(YTest))"
   ],
   "execution_count": null,
   "outputs": [
    {
     "output_type": "stream",
     "text": [
      "Accuracy: 0.8490386751662024\n",
      "Precision: 0.7656265676733219\n",
      "Recall: 0.7055451540577399\n",
      "F1: 0.7343590237095668\n",
      "All 0 accuracy: 0.7042503375318305\n"
     ],
     "name": "stdout"
    }
   ]
  },
  {
   "cell_type": "markdown",
   "metadata": {
    "id": "E1EWV6m8mcEk"
   },
   "source": [
    "Just barely better than our lag 1 in logistic regression. However, our F1 score is higher as well. Hopefully, I'll see a bigger improvement when using lag of 5"
   ]
  },
  {
   "cell_type": "markdown",
   "metadata": {
    "id": "qekO6vgfjQ3b"
   },
   "source": [
    "#### Lag of 5"
   ]
  },
  {
   "cell_type": "markdown",
   "metadata": {
    "id": "ZQ0vbsPXmtt7"
   },
   "source": [
    "There are 105 features here, thus we can make a bigger network. 75, 50, then 25."
   ]
  },
  {
   "cell_type": "code",
   "metadata": {
    "id": "29Yv4fJ3mtKa",
    "colab": {
     "base_uri": "https://localhost:8080/",
     "height": 295
    },
    "outputId": "008c4f66-3a96-4f0e-d4f2-fbfbd800217f"
   },
   "source": [
    "model5 = Sequential()\n",
    "model5.add(layers.Dense(75, activation='relu', input_shape=(105,)))\n",
    "model5.add(layers.Dense(50, activation='relu'))\n",
    "model5.add(layers.Dense(25, activation='relu'))\n",
    "model5.add(layers.Dense(1, activation='sigmoid'))  # Output!\n",
    "\n",
    "model5.summary()"
   ],
   "execution_count": null,
   "outputs": [
    {
     "output_type": "stream",
     "text": [
      "Model: \"sequential_1\"\n",
      "_________________________________________________________________\n",
      "Layer (type)                 Output Shape              Param #   \n",
      "=================================================================\n",
      "dense_4 (Dense)              (None, 75)                7950      \n",
      "_________________________________________________________________\n",
      "dense_5 (Dense)              (None, 50)                3800      \n",
      "_________________________________________________________________\n",
      "dense_6 (Dense)              (None, 25)                1275      \n",
      "_________________________________________________________________\n",
      "dense_7 (Dense)              (None, 1)                 26        \n",
      "=================================================================\n",
      "Total params: 13,051\n",
      "Trainable params: 13,051\n",
      "Non-trainable params: 0\n",
      "_________________________________________________________________\n"
     ],
     "name": "stdout"
    }
   ]
  },
  {
   "cell_type": "code",
   "metadata": {
    "id": "xC9EkMvem90e",
    "colab": {
     "base_uri": "https://localhost:8080/",
     "height": 728
    },
    "outputId": "ec409414-0164-44dd-f851-4bad9f499a72"
   },
   "source": [
    "model5.compile(optimizer='adam', loss='binary_crossentropy', metrics=['acc'])\n",
    "model5.fit(XTrainPT, YTrain, batch_size=64, epochs=20, validation_data=(XValiPT, YVali))"
   ],
   "execution_count": null,
   "outputs": [
    {
     "output_type": "stream",
     "text": [
      "Epoch 1/20\n",
      "16000/16000 [==============================] - 29s 2ms/step - loss: 0.3255 - acc: 0.8568 - val_loss: 0.3272 - val_acc: 0.8569\n",
      "Epoch 2/20\n",
      "16000/16000 [==============================] - 29s 2ms/step - loss: 0.3254 - acc: 0.8570 - val_loss: 0.3283 - val_acc: 0.8568\n",
      "Epoch 3/20\n",
      "16000/16000 [==============================] - 29s 2ms/step - loss: 0.3253 - acc: 0.8569 - val_loss: 0.3271 - val_acc: 0.8571\n",
      "Epoch 4/20\n",
      "16000/16000 [==============================] - 29s 2ms/step - loss: 0.3252 - acc: 0.8570 - val_loss: 0.3271 - val_acc: 0.8565\n",
      "Epoch 5/20\n",
      "16000/16000 [==============================] - 29s 2ms/step - loss: 0.3250 - acc: 0.8571 - val_loss: 0.3273 - val_acc: 0.8571\n",
      "Epoch 6/20\n",
      "16000/16000 [==============================] - 29s 2ms/step - loss: 0.3249 - acc: 0.8571 - val_loss: 0.3270 - val_acc: 0.8565\n",
      "Epoch 7/20\n",
      "16000/16000 [==============================] - 29s 2ms/step - loss: 0.3248 - acc: 0.8572 - val_loss: 0.3276 - val_acc: 0.8572\n",
      "Epoch 8/20\n",
      "16000/16000 [==============================] - 30s 2ms/step - loss: 0.3248 - acc: 0.8571 - val_loss: 0.3269 - val_acc: 0.8569\n",
      "Epoch 9/20\n",
      "16000/16000 [==============================] - 29s 2ms/step - loss: 0.3246 - acc: 0.8571 - val_loss: 0.3268 - val_acc: 0.8567\n",
      "Epoch 10/20\n",
      "16000/16000 [==============================] - 29s 2ms/step - loss: 0.3246 - acc: 0.8573 - val_loss: 0.3275 - val_acc: 0.8570\n",
      "Epoch 11/20\n",
      "16000/16000 [==============================] - 29s 2ms/step - loss: 0.3245 - acc: 0.8572 - val_loss: 0.3270 - val_acc: 0.8570\n",
      "Epoch 12/20\n",
      "16000/16000 [==============================] - 29s 2ms/step - loss: 0.3244 - acc: 0.8573 - val_loss: 0.3267 - val_acc: 0.8567\n",
      "Epoch 13/20\n",
      "16000/16000 [==============================] - 29s 2ms/step - loss: 0.3243 - acc: 0.8573 - val_loss: 0.3272 - val_acc: 0.8570\n",
      "Epoch 14/20\n",
      "16000/16000 [==============================] - 30s 2ms/step - loss: 0.3242 - acc: 0.8573 - val_loss: 0.3266 - val_acc: 0.8564\n",
      "Epoch 15/20\n",
      "16000/16000 [==============================] - 29s 2ms/step - loss: 0.3241 - acc: 0.8573 - val_loss: 0.3281 - val_acc: 0.8566\n",
      "Epoch 16/20\n",
      "16000/16000 [==============================] - 29s 2ms/step - loss: 0.3241 - acc: 0.8575 - val_loss: 0.3267 - val_acc: 0.8569\n",
      "Epoch 17/20\n",
      "16000/16000 [==============================] - 29s 2ms/step - loss: 0.3240 - acc: 0.8574 - val_loss: 0.3264 - val_acc: 0.8571\n",
      "Epoch 18/20\n",
      "16000/16000 [==============================] - 29s 2ms/step - loss: 0.3239 - acc: 0.8574 - val_loss: 0.3272 - val_acc: 0.8571\n",
      "Epoch 19/20\n",
      "16000/16000 [==============================] - 30s 2ms/step - loss: 0.3238 - acc: 0.8575 - val_loss: 0.3272 - val_acc: 0.8567\n",
      "Epoch 20/20\n",
      "16000/16000 [==============================] - 29s 2ms/step - loss: 0.3238 - acc: 0.8575 - val_loss: 0.3278 - val_acc: 0.8570\n"
     ],
     "name": "stdout"
    },
    {
     "output_type": "execute_result",
     "data": {
      "text/plain": [
       "<tensorflow.python.keras.callbacks.History at 0x7efe53ec8908>"
      ]
     },
     "metadata": {
      "tags": []
     },
     "execution_count": 30
    }
   ]
  },
  {
   "cell_type": "code",
   "metadata": {
    "id": "LyJqaLRVnHN-"
   },
   "source": [
    "predictions = model5.predict(XTest).ravel()\n",
    "predictions[predictions < 0.5] = 0\n",
    "predictions[predictions >= 0.5] = 1"
   ],
   "execution_count": null,
   "outputs": []
  },
  {
   "cell_type": "code",
   "metadata": {
    "id": "gLC8p88-9zJs",
    "colab": {
     "base_uri": "https://localhost:8080/",
     "height": 305
    },
    "outputId": "c723f8a3-88f9-4029-f533-aa4936f911ca"
   },
   "source": [
    "reportStats(predictions, YTest)\n",
    "print('All 0 accuracy:', 1 - np.mean(YTest))"
   ],
   "execution_count": null,
   "outputs": [
    {
     "output_type": "error",
     "ename": "ZeroDivisionError",
     "evalue": "ignored",
     "traceback": [
      "\u001B[0;31m---------------------------------------------------------------------------\u001B[0m",
      "\u001B[0;31mZeroDivisionError\u001B[0m                         Traceback (most recent call last)",
      "\u001B[0;32m<ipython-input-26-a2f387a759b0>\u001B[0m in \u001B[0;36m<module>\u001B[0;34m()\u001B[0m\n\u001B[0;32m----> 1\u001B[0;31m \u001B[0mreportStats\u001B[0m\u001B[0;34m(\u001B[0m\u001B[0mpredictions\u001B[0m\u001B[0;34m,\u001B[0m \u001B[0mYTest\u001B[0m\u001B[0;34m)\u001B[0m\u001B[0;34m\u001B[0m\u001B[0;34m\u001B[0m\u001B[0m\n\u001B[0m\u001B[1;32m      2\u001B[0m \u001B[0mprint\u001B[0m\u001B[0;34m(\u001B[0m\u001B[0;34m'All 0 accuracy:'\u001B[0m\u001B[0;34m,\u001B[0m \u001B[0;36m1\u001B[0m \u001B[0;34m-\u001B[0m \u001B[0mnp\u001B[0m\u001B[0;34m.\u001B[0m\u001B[0mmean\u001B[0m\u001B[0;34m(\u001B[0m\u001B[0mYTest\u001B[0m\u001B[0;34m)\u001B[0m\u001B[0;34m)\u001B[0m\u001B[0;34m\u001B[0m\u001B[0;34m\u001B[0m\u001B[0m\n",
      "\u001B[0;32m<ipython-input-13-5e953f6e5dc2>\u001B[0m in \u001B[0;36mreportStats\u001B[0;34m(predictions, targets, return_vals)\u001B[0m\n\u001B[1;32m      6\u001B[0m   \u001B[0mFN\u001B[0m \u001B[0;34m=\u001B[0m \u001B[0msum\u001B[0m\u001B[0;34m(\u001B[0m\u001B[0;34m(\u001B[0m\u001B[0mpredictions\u001B[0m \u001B[0;34m==\u001B[0m \u001B[0;36m0\u001B[0m\u001B[0;34m)\u001B[0m \u001B[0;34m&\u001B[0m \u001B[0;34m(\u001B[0m\u001B[0mtargets\u001B[0m \u001B[0;34m==\u001B[0m \u001B[0;36m1\u001B[0m\u001B[0;34m)\u001B[0m\u001B[0;34m)\u001B[0m\u001B[0;34m\u001B[0m\u001B[0;34m\u001B[0m\u001B[0m\n\u001B[1;32m      7\u001B[0m   \u001B[0maccuracy\u001B[0m \u001B[0;34m=\u001B[0m \u001B[0;34m(\u001B[0m\u001B[0mTP\u001B[0m \u001B[0;34m+\u001B[0m \u001B[0mTN\u001B[0m\u001B[0;34m)\u001B[0m \u001B[0;34m/\u001B[0m \u001B[0mN\u001B[0m\u001B[0;34m\u001B[0m\u001B[0;34m\u001B[0m\u001B[0m\n\u001B[0;32m----> 8\u001B[0;31m   \u001B[0mprecision\u001B[0m \u001B[0;34m=\u001B[0m \u001B[0mTP\u001B[0m \u001B[0;34m/\u001B[0m \u001B[0;34m(\u001B[0m\u001B[0mTP\u001B[0m \u001B[0;34m+\u001B[0m \u001B[0mFP\u001B[0m\u001B[0;34m)\u001B[0m\u001B[0;34m\u001B[0m\u001B[0;34m\u001B[0m\u001B[0m\n\u001B[0m\u001B[1;32m      9\u001B[0m   \u001B[0mrecall\u001B[0m \u001B[0;34m=\u001B[0m \u001B[0mTP\u001B[0m \u001B[0;34m/\u001B[0m \u001B[0;34m(\u001B[0m\u001B[0mTP\u001B[0m \u001B[0;34m+\u001B[0m \u001B[0mFN\u001B[0m\u001B[0;34m)\u001B[0m\u001B[0;34m\u001B[0m\u001B[0;34m\u001B[0m\u001B[0m\n\u001B[1;32m     10\u001B[0m   \u001B[0mf1\u001B[0m \u001B[0;34m=\u001B[0m \u001B[0;36m2\u001B[0m \u001B[0;34m*\u001B[0m \u001B[0mprecision\u001B[0m \u001B[0;34m*\u001B[0m \u001B[0mrecall\u001B[0m \u001B[0;34m/\u001B[0m \u001B[0;34m(\u001B[0m\u001B[0mprecision\u001B[0m \u001B[0;34m+\u001B[0m \u001B[0mrecall\u001B[0m\u001B[0;34m)\u001B[0m\u001B[0;34m\u001B[0m\u001B[0;34m\u001B[0m\u001B[0m\n",
      "\u001B[0;31mZeroDivisionError\u001B[0m: division by zero"
     ]
    }
   ]
  },
  {
   "cell_type": "code",
   "metadata": {
    "id": "tZUy5QjI94p-",
    "colab": {
     "base_uri": "https://localhost:8080/",
     "height": 35
    },
    "outputId": "fb476664-c99e-4ef4-c5d2-b63f5b92135e"
   },
   "source": [
    "np.mean(predictions)"
   ],
   "execution_count": null,
   "outputs": [
    {
     "output_type": "execute_result",
     "data": {
      "text/plain": [
       "0.0"
      ]
     },
     "metadata": {
      "tags": []
     },
     "execution_count": 27
    }
   ]
  },
  {
   "cell_type": "code",
   "metadata": {
    "id": "_-xsyVQD97gK",
    "colab": {
     "base_uri": "https://localhost:8080/",
     "height": 35
    },
    "outputId": "b3e4499f-472b-4c45-8603-3cd4c5596bbd"
   },
   "source": [
    "model5.predict(XTrain).ravel()"
   ],
   "execution_count": null,
   "outputs": [
    {
     "output_type": "execute_result",
     "data": {
      "text/plain": [
       "array([0., 0., 0., ..., 0., 0., 0.], dtype=float32)"
      ]
     },
     "metadata": {
      "tags": []
     },
     "execution_count": 29
    }
   ]
  },
  {
   "cell_type": "code",
   "metadata": {
    "id": "iGcd0ow3-Aw-"
   },
   "source": [],
   "execution_count": null,
   "outputs": []
  }
 ]
}
