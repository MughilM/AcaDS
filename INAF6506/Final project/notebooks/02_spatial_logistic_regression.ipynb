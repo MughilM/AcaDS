{
 "cells": [
  {
   "cell_type": "markdown",
   "source": [
    "# Part II - Spatial Logistic Regression\n",
    "This is the **second** notebook in a series of 3 that will work through predicting wildfire incidence using historical wildfire, climatology, and land usage data.\n",
    "\n",
    "At this point we have already preprocessed our data from the 3 sources such that all datasets have the same resolution and size. For 10-minute resolution data, the shape is 153 by 351.\n",
    "\n",
    "## Methodology Overview\n",
    "However, it is still not yet at point where we can simply pass the matrix through to the model. For each center cell, we must grab the values in all cells that are an L1 distance of $\\ell$ away from the center, where $1\\leq \\ell \\leq L$, where $L$ is the maximum distance we decide to look out.\n",
    "\n",
    "One sample will constitute of the input values **for each** $\\mathbf{\\ell}$\n",
    "* The percentage of cells at that distance that had a fire.\n",
    "* For each metric we choose to include, the average of the metric at that distance of $\\ell$.\n",
    "* For each land cover category, the percentage of cells at that distance that had that type of land.\n",
    "\n",
    "In our case, since we have both minimum and maximum temperature, we will only use the **average temperature** in order to avoid directly correlating variables.\n",
    "\n",
    "Once we have our matrix, we can pass it directly through the logistic regression model. We will also allow for some minor scaling of values, and showcase the effects of them.\n",
    "\n",
    "Every resolution will generate a new input matrix and new target values. To minimize complexity, we will use the most coarse resolution of **10 minutes**. To run other resolutions, please adjust the variable in the notebook accordingly.\n",
    "\n",
    "Let's get started!\n",
    "\n",
    "## Import Packages\n",
    "As always, we will import all the packages we need. In addition to the usual data analytics, we use multiple capabilities from `sklearn` that will aid in preprocessing and building the model itself.\n"
   ],
   "metadata": {
    "collapsed": false
   },
   "id": "a7b5bd1d6c742f90"
  },
  {
   "cell_type": "code",
   "outputs": [],
   "source": [
    "import os\n",
    "import warnings\n",
    "\n",
    "import numpy as np\n",
    "import pandas as pd\n",
    "\n",
    "import matplotlib.pyplot as plt\n",
    "\n",
    "from sklearn.model_selection import train_test_split\n",
    "from sklearn.linear_model import LogisticRegression\n",
    "from sklearn.preprocessing import StandardScaler, PowerTransformer\n",
    "from sklearn.compose import make_column_transformer\n",
    "from sklearn.metrics import classification_report\n",
    "\n",
    "# Ignore some of the division by zero warnings, as we take \n",
    "# care of them ourselves.\n",
    "np.seterr(divide='ignore', invalid='ignore', over='ignore')\n",
    "np.random.seed(7145)"
   ],
   "metadata": {
    "collapsed": false,
    "ExecuteTime": {
     "end_time": "2024-01-29T15:14:21.246043600Z",
     "start_time": "2024-01-29T15:14:19.188184100Z"
    }
   },
   "id": "4f7359419175b893",
   "execution_count": 1
  },
  {
   "cell_type": "markdown",
   "source": [
    "## Setting up\n",
    "We have a good amount of setup to do, such as reading in the files, making the final DataFrame that will house all the samples.\n",
    "\n",
    "### Metadata\n",
    "First, define our maximum lag distance $L$, the metrics we will use, the resolution, and directory locations."
   ],
   "metadata": {
    "collapsed": false
   },
   "id": "292d9511326c364d"
  },
  {
   "cell_type": "code",
   "outputs": [],
   "source": [
    "LAG = 5\n",
    "metric_names = ['tavg', 'prec', 'srad', 'wind', 'vapr']\n",
    "months = ['Jan', 'Feb', 'Mar', 'Apr', 'May', 'Jun',\n",
    "          'Jul', 'Aug', 'Sep', 'Oct', 'Nov', 'Dec']\n",
    "RES = '10m'\n",
    "\n",
    "ROOT = '../'\n",
    "PREFIX = os.path.join(ROOT, 'data')\n",
    "PROCESSED_PATH = os.path.join(PREFIX, 'processed', RES)"
   ],
   "metadata": {
    "collapsed": false,
    "ExecuteTime": {
     "end_time": "2024-01-29T15:14:21.263044Z",
     "start_time": "2024-01-29T15:14:21.245045500Z"
    }
   },
   "id": "e818ab0a50fb0e2c",
   "execution_count": 2
  },
  {
   "cell_type": "markdown",
   "source": [
    "### Reading in Data\n",
    "Read in the fires, land cover, and climatology data at the specified resolution. In addition, we also grab the actual land cover categories, and also transpose the `metrics` matrix so that the month dimension is at the very front. This will come in handy when we \"unwrap\" and put into DataFrame format. Finally, we also force the fire matrix to contain binary incidence data, as opposed to direct frequency."
   ],
   "metadata": {
    "collapsed": false
   },
   "id": "ed1f6d8ac2bbc1ed"
  },
  {
   "cell_type": "code",
   "outputs": [
    {
     "name": "stdout",
     "output_type": "stream",
     "text": [
      "Metrics shape: (12, 5, 153, 351)\n",
      "Land cover categories: [11, 12, 21, 22, 23, 24, 31, 41, 42, 43, 52, 71, 81, 82, 90, 95]\n",
      "153 351\n"
     ]
    }
   ],
   "source": [
    "# Read in the fires and landcover data\n",
    "# Make the fires become binary.\n",
    "fires = np.load(os.path.join(PROCESSED_PATH, 'fires.npy')).clip(0, 1)\n",
    "landcover = np.load(os.path.join(PROCESSED_PATH, 'lc.npy'))\n",
    "# Put 0s in for all the NaNs, and convert to integer, will save some headache.\n",
    "landcover[np.isnan(landcover)] = 0\n",
    "landcover = landcover.astype(int)\n",
    "\n",
    "# Stack the selected metrics into a single ndarray\n",
    "metrics = np.stack([np.load(os.path.join(PROCESSED_PATH, f'{metric}.npy')) for metric in metric_names])\n",
    "# We want the months to be the first dimension, so do a transpose\n",
    "metrics = metrics.transpose((1, 0, 2, 3))\n",
    "print('Metrics shape:', metrics.shape)\n",
    "\n",
    "landcover_cats = np.unique(landcover).tolist()[1:]  # Don't want 0\n",
    "print(f'Land cover categories: {landcover_cats}')\n",
    "# Save the shape, we'll do product() later :)\n",
    "N_ROWS, N_COLS = fires[0].shape\n",
    "print(N_ROWS, N_COLS)"
   ],
   "metadata": {
    "collapsed": false,
    "ExecuteTime": {
     "end_time": "2024-01-29T15:14:21.355285Z",
     "start_time": "2024-01-29T15:14:21.264043400Z"
    }
   },
   "id": "c4b55d715a86ffad",
   "execution_count": 3
  },
  {
   "cell_type": "markdown",
   "source": [
    "### Columns of final DataFrame\n",
    "Based on the bullet points for the column contained in the actual input matrix, it will be handy to generate what these column names would be for each value of $\\ell$."
   ],
   "metadata": {
    "collapsed": false
   },
   "id": "ad46da3757ad131d"
  },
  {
   "cell_type": "code",
   "outputs": [],
   "source": [
    "# Create the column names...\n",
    "# We will need to reference the fire names, metric names, and\n",
    "# land cover names separately, so create a dictionary.\n",
    "fire_colnames = {}\n",
    "metric_colnames = {}\n",
    "landcover_colnames = {}\n",
    "\n",
    "# Create all the column names and add them to the correct dictionary\n",
    "for lag in range(1, LAG + 1):\n",
    "    fire_colnames[lag] = f'fires_L{lag}_%'\n",
    "    metric_colnames[lag] = [f'{metric}_L{lag}_avg' for metric in metric_names]\n",
    "    landcover_colnames[lag] = [f'LC{lc}_L{lag}_%' for lc in landcover_cats]\n",
    "\n",
    "# Add all columns to a big list to\n",
    "# create the ultimate dataframe...\n",
    "colnames = ['Month']\n",
    "for lag in range(1, LAG + 1):\n",
    "    colnames.append(fire_colnames[lag])\n",
    "    colnames.extend(metric_colnames[lag])\n",
    "    colnames.extend(landcover_colnames[lag])\n",
    "\n",
    "# Add a column for incidence of fire in the center...\n",
    "colnames.append('fireCenter')"
   ],
   "metadata": {
    "collapsed": false,
    "ExecuteTime": {
     "end_time": "2024-01-29T15:14:21.399383500Z",
     "start_time": "2024-01-29T15:14:21.358368900Z"
    }
   },
   "id": "9148f3fc46b9106d",
   "execution_count": 4
  },
  {
   "cell_type": "markdown",
   "source": [
    "### Valid Locations\n",
    "Not every cell in the matrix will have all the available cells. For example, cells on the top edge won't have any values above it. For this reason, we will create a mask of all the places where we have full cell availability, and combine with the NaNs present in the data already."
   ],
   "metadata": {
    "collapsed": false
   },
   "id": "ccd75eba7a6401a3"
  },
  {
   "cell_type": "code",
   "outputs": [
    {
     "name": "stdout",
     "output_type": "stream",
     "text": [
      "Number of centers: 30522\n",
      "Shape of final DataFrame: (366264, 112)\n"
     ]
    }
   ],
   "source": [
    "# The locations we can lag is determined by our\n",
    "# LARGEST lag. The list of center locations we can\n",
    "# gather stay constant throughout the process\n",
    "laggable = np.ones((N_ROWS, N_COLS), dtype=bool)\n",
    "laggable[-LAG:, :] = False\n",
    "laggable[:LAG, :] = False\n",
    "laggable[:, :LAG] = False\n",
    "laggable[:, -LAG:] = False\n",
    "# Where values aren't masked and are laggable\n",
    "fire_row_centers, fire_col_centers = np.where(~np.isnan(fires[0]) & laggable)\n",
    "print('Number of centers:', len(fire_row_centers))\n",
    "\n",
    "# Our full dataframe\n",
    "spatial_reg = pd.DataFrame(data=None, columns=colnames)\n",
    "# For the month, all of January will be there, then February, etc.\n",
    "# The number of centers we have is how many times each month will\n",
    "# show up, so use np.repeat and fill it in right now.\n",
    "spatial_reg['Month'] = np.repeat(months, repeats=len(fire_row_centers))\n",
    "spatial_reg['fireCenter'] = fires[:, fire_row_centers, fire_col_centers].ravel()\n",
    "print('Shape of final DataFrame:', spatial_reg.shape)"
   ],
   "metadata": {
    "collapsed": false,
    "ExecuteTime": {
     "end_time": "2024-01-29T15:14:21.671257600Z",
     "start_time": "2024-01-29T15:14:21.368291600Z"
    }
   },
   "id": "c7ed130e2bcc141f",
   "execution_count": 5
  },
  {
   "cell_type": "markdown",
   "source": [
    "The final number of rows our Dataframe will have is the number of centers multiplied by 12 (the number of months)."
   ],
   "metadata": {
    "collapsed": false
   },
   "id": "d06d6ba3c42881bc"
  },
  {
   "cell_type": "markdown",
   "source": [
    "### Getting the cell neighbors\n",
    "This step is much more involved. For each center cell, we need to grab the indices of all the cells that are a distance of $\\ell$ away from the center.\n",
    "\n",
    "We can take advantage of 4-fold symmetry (in the 4 directions) to do this efficiently. We will also calculate the **distance** between the center and each point in the $x$ and $y$ direction, so we can simply add when it's all said and done. \n",
    "\n",
    "The set of points we want form a diamond of pixels around the center. We will focus on the **top right trinagle** when we loop over possible values. The distance to the x-coordinate will range $0\\leq x_d \\leq \\ell$. This also means that the distance to y-coordinate $y_d=\\ell - x_d$.\n",
    " \n",
    "The distance coordinates range from $(x_d, y_d) = (0, \\ell)$ to $(\\ell, 0)$. At the two endpoints, there is only *one point opposite* ($(0, -\\ell)$ and $(-\\ell, 0)$). At all other points, we need 4 corresponding points: $(x_d, y_d), (-x_d, y_d), (x_d, -y_d), (-x_d, -y_d)$. \n",
    "\n",
    "Once we have the full set, we just take our center point $(x_c, y_c)$ and add it to each point in the set.\n",
    "\n",
    "We will put this functionality in a function `get_cell_neighbors`."
   ],
   "metadata": {
    "collapsed": false
   },
   "id": "5d4601a4ca8f82cb"
  },
  {
   "cell_type": "code",
   "outputs": [],
   "source": [
    "def get_cell_neighbors(center, lag, width, height):\n",
    "    # Local function to test whether a location is within the bounds\n",
    "    in_bounds = lambda r, c: (0 <= r < height) and (0 <= c < width)\n",
    "    # Currently, (0, 0) in array style is top corner.\n",
    "    # Imagine we had a regular coordinate system instead.\n",
    "    # The squares form a diamond shape. By keeping track\n",
    "    # of the x and y distance from the center, we can form all 4 sides at once\n",
    "    # by going along just one of them.\n",
    "    # We will go along the top right side, which corresponds\n",
    "    # to initial positive x and y distance.\n",
    "    # Ex. lag = 2 ==> (0, 2), generates (0, -2)\n",
    "    # next: (1, 1), generates (-1, 1), (1, -1), and (-1, -1)\n",
    "    # next: (2, 0) generates (-2, 0)\n",
    "    # We'll deal with the center afterwards...\n",
    "    points = []\n",
    "    for x_dist in range(lag + 1):\n",
    "        y_dist = lag - x_dist\n",
    "        if x_dist == 0:  # Only need one other point...\n",
    "            points.extend([\n",
    "                (x_dist, y_dist),\n",
    "                (x_dist, -y_dist)  # Bottom corner\n",
    "            ])\n",
    "        elif y_dist == 0:\n",
    "            points.extend([\n",
    "                (x_dist, y_dist),\n",
    "                (-x_dist, y_dist)  # Left corner\n",
    "            ])\n",
    "        else:\n",
    "            points.extend([\n",
    "                (x_dist, y_dist),  # Top right\n",
    "                (-x_dist, y_dist),  # Top left\n",
    "                (x_dist, -y_dist),  # Bottom right\n",
    "                (-x_dist, -y_dist)  # Bottom left\n",
    "            ])\n",
    "    # Filter out points that are outside of bounds...\n",
    "    # And add the center while we're at it...\n",
    "    # The array style coordinates is regular\n",
    "    # Cartesian that's been rotated 90 degrees CW\n",
    "    points = [(center[0] + r, center[1] + c) for r, c in points if in_bounds(center[0] + r, center[1] + c)]\n",
    "    return tuple(zip(*points))"
   ],
   "metadata": {
    "collapsed": false,
    "ExecuteTime": {
     "end_time": "2024-01-29T15:14:21.692253300Z",
     "start_time": "2024-01-29T15:14:21.673368400Z"
    }
   },
   "id": "8a78110c873a89e6",
   "execution_count": 6
  },
  {
   "cell_type": "markdown",
   "source": [
    "Now we just need to call this function for every single center we have in our list. The benefit of pre-calculating them is so that we can index directly into the Numpy matrices all at once, which saves a lot of time. The general rule-of-thumb when working with Numpy is to use as few loops as possible."
   ],
   "metadata": {
    "collapsed": false
   },
   "id": "3e38f6806e41f398"
  },
  {
   "cell_type": "code",
   "outputs": [
    {
     "name": "stdout",
     "output_type": "stream",
     "text": [
      "Sample of lagged locations (lag=2), (center=(5, 179)): ((5, 5, 6, 4, 6, 4, 7, 3), (181, 177, 180, 180, 178, 178, 179, 179))\n"
     ]
    }
   ],
   "source": [
    "# Get lagged locations for each cell...\n",
    "# at each possible lag....\n",
    "all_locs = {\n",
    "    lag: [get_cell_neighbors((i, j), lag, N_COLS, N_ROWS)\n",
    "          for i, j in zip(fire_row_centers, fire_col_centers)]\n",
    "    for lag in range(1, LAG + 1)\n",
    "}\n",
    "print(f'Sample of lagged locations (lag=2), (center={fire_row_centers[0], fire_col_centers[0]}):', all_locs[2][0])"
   ],
   "metadata": {
    "collapsed": false,
    "ExecuteTime": {
     "end_time": "2024-01-29T15:14:23.047114900Z",
     "start_time": "2024-01-29T15:14:21.762517400Z"
    }
   },
   "id": "2693db65afd6444c",
   "execution_count": 7
  },
  {
   "cell_type": "markdown",
   "source": [
    "## Calculating statistics of lagged locations\n",
    "Now that we have the centers, as well as the indices of the lagged locations for each $\\ell$, we can now grab those values and calculate averages. When indexing into a Numpy array, it is required to give 2 lists, one for the row indices, and one for the column indices. This is similar to what we have; however, they have been split up in `all_locs`. To merge them into 2 distinct lists, while also keeping the order of data consistent, we need to do a transpose along with a reshape.\n",
    "\n",
    "**Let us first walkthrough with $\\mathbf{\\ell=1}$ and then loop it around afterward.** With a lag of 1, there are only 4 neighboring values we need to worry about."
   ],
   "metadata": {
    "collapsed": false
   },
   "id": "3fe11c879fcee863"
  },
  {
   "cell_type": "code",
   "outputs": [],
   "source": [
    "lag = 1\n",
    "# Extract the lag locations for each center, and reshape into a 2 x num_points array,\n",
    "# so a single indexing can be performed on our datasets.\n",
    "locs_lag = np.asarray(all_locs[lag], dtype=int)\n",
    "N_POINTS, N_LAGGED = locs_lag.shape[0], locs_lag.shape[-1]\n",
    "locs_lag = locs_lag.transpose((1, 0, 2)).reshape(2, N_POINTS * N_LAGGED)\n",
    "rows, cols = locs_lag[0].tolist(), locs_lag[1].tolist()"
   ],
   "metadata": {
    "collapsed": false,
    "ExecuteTime": {
     "end_time": "2024-01-29T15:14:23.096229300Z",
     "start_time": "2024-01-29T15:14:23.081041800Z"
    }
   },
   "id": "802e9f71450a16c0",
   "execution_count": 8
  },
  {
   "cell_type": "code",
   "outputs": [
    {
     "name": "stdout",
     "output_type": "stream",
     "text": [
      "Centers of ((5, 179)), ((5, 180)), ((5, 181))\n"
     ]
    },
    {
     "data": {
      "text/plain": "([5, 5, 6, 4, 5, 5, 6, 4, 5, 5, 6, 4],\n [180, 178, 179, 179, 181, 179, 180, 180, 182, 180, 181, 181])"
     },
     "execution_count": 9,
     "metadata": {},
     "output_type": "execute_result"
    }
   ],
   "source": [
    "print(f'Centers of ({fire_row_centers[0], fire_col_centers[0]}), ({fire_row_centers[0], fire_col_centers[1]}), ({fire_row_centers[0], fire_col_centers[2]})')\n",
    "rows[:12], cols[:12]"
   ],
   "metadata": {
    "collapsed": false,
    "ExecuteTime": {
     "end_time": "2024-01-29T15:14:23.186265500Z",
     "start_time": "2024-01-29T15:14:23.099134500Z"
    }
   },
   "id": "68ef88b4778fe980",
   "execution_count": 9
  },
  {
   "cell_type": "markdown",
   "source": [
    "Notice that we have generated 2 *flattened* lists of the lagged locations."
   ],
   "metadata": {
    "collapsed": false
   },
   "id": "6bc8b54e40427aa1"
  },
  {
   "cell_type": "markdown",
   "source": [
    "### Averaging wildfire incidence\n",
    "With the two index lists now ready, we can index directly into the `fires` Numpy array, grab the incidences, and average them across all lagged locations. The locations also don't change from month to month. In order to handle the NaNs that are present, we use `np.nanmean()` instead of the `np.mean()`. The former will ignore NaNs when calculating the mean. Once this is done, we simply flatten the list and assign to the our `spatial_reg` Dataframe!"
   ],
   "metadata": {
    "collapsed": false
   },
   "id": "a91672dd6ccacbf"
  },
  {
   "cell_type": "code",
   "outputs": [
    {
     "name": "stdout",
     "output_type": "stream",
     "text": [
      "0    0.0\n",
      "1    0.0\n",
      "2    0.0\n",
      "3    0.0\n",
      "4    0.0\n",
      "Name: fires_L1_%, dtype: float32\n"
     ]
    }
   ],
   "source": [
    "# Calculate fire incidences for all the months at all the locations.\n",
    "# shape = (12, n_points, n_lagged)\n",
    "# Then, take the mean of each point for its lagged locations\n",
    "# corresponds to the last axis ==> (12, n_points).\n",
    "# Then, we assign it to the dataframe by raveling to a single column.\n",
    "# This preserves the month order we added in earlier.\n",
    "fire_incidences = fires[:, rows, cols].reshape((-1, N_POINTS, N_LAGGED))\n",
    "# Catch the \"mean of empty slice\" warning...\n",
    "with warnings.catch_warnings():\n",
    "    warnings.simplefilter('ignore', category=RuntimeWarning)\n",
    "    fire_incidences = np.nanmean(fire_incidences, axis=-1)\n",
    "# Assign it to the corresponding column for fire\n",
    "spatial_reg[fire_colnames[lag]] = fire_incidences.ravel()\n",
    "print(spatial_reg[fire_colnames[lag]].head())"
   ],
   "metadata": {
    "collapsed": false,
    "ExecuteTime": {
     "end_time": "2024-01-29T15:14:23.243586Z",
     "start_time": "2024-01-29T15:14:23.113260500Z"
    }
   },
   "id": "b8c6f8aec1c96335",
   "execution_count": 10
  },
  {
   "cell_type": "markdown",
   "source": [
    "### Calculate averages for all metric values\n",
    "Because the metrics are the same shape as the fire matrix, the same exact indices apply here. The only extra step we need is an extra transpose, because currently, the metrics are in the second dimension. Transposing the axes so that the metrics are the final dimension (and consequently, the points are the second dimension) will ensure that each metric forms a column when assigning it to the DataFrame.\n"
   ],
   "metadata": {
    "collapsed": false
   },
   "id": "7be6b4f57c0e5599"
  },
  {
   "cell_type": "code",
   "outputs": [
    {
     "data": {
      "text/plain": "   tavg_L1_avg  prec_L1_avg  srad_L1_avg  wind_L1_avg  vapr_L1_avg\n0   -17.215083         18.0  4447.666667     3.445333     0.165133\n1   -17.008937         18.5  4425.500000     3.405188     0.165156\n2   -16.799875         17.5  4429.000000     3.361625     0.168513\n3     4.225424        117.0  3243.000000     3.450847     0.680000\n4     3.318625        144.5  3287.000000     3.139708     0.643800",
      "text/html": "<div>\n<style scoped>\n    .dataframe tbody tr th:only-of-type {\n        vertical-align: middle;\n    }\n\n    .dataframe tbody tr th {\n        vertical-align: top;\n    }\n\n    .dataframe thead th {\n        text-align: right;\n    }\n</style>\n<table border=\"1\" class=\"dataframe\">\n  <thead>\n    <tr style=\"text-align: right;\">\n      <th></th>\n      <th>tavg_L1_avg</th>\n      <th>prec_L1_avg</th>\n      <th>srad_L1_avg</th>\n      <th>wind_L1_avg</th>\n      <th>vapr_L1_avg</th>\n    </tr>\n  </thead>\n  <tbody>\n    <tr>\n      <th>0</th>\n      <td>-17.215083</td>\n      <td>18.0</td>\n      <td>4447.666667</td>\n      <td>3.445333</td>\n      <td>0.165133</td>\n    </tr>\n    <tr>\n      <th>1</th>\n      <td>-17.008937</td>\n      <td>18.5</td>\n      <td>4425.500000</td>\n      <td>3.405188</td>\n      <td>0.165156</td>\n    </tr>\n    <tr>\n      <th>2</th>\n      <td>-16.799875</td>\n      <td>17.5</td>\n      <td>4429.000000</td>\n      <td>3.361625</td>\n      <td>0.168513</td>\n    </tr>\n    <tr>\n      <th>3</th>\n      <td>4.225424</td>\n      <td>117.0</td>\n      <td>3243.000000</td>\n      <td>3.450847</td>\n      <td>0.680000</td>\n    </tr>\n    <tr>\n      <th>4</th>\n      <td>3.318625</td>\n      <td>144.5</td>\n      <td>3287.000000</td>\n      <td>3.139708</td>\n      <td>0.643800</td>\n    </tr>\n  </tbody>\n</table>\n</div>"
     },
     "execution_count": 11,
     "metadata": {},
     "output_type": "execute_result"
    }
   ],
   "source": [
    "# Calculate all metrics all at once using the same idea as before.\n",
    "# Extra dimension here ==> 12 x n_metrics x n_points x n_lagged.\n",
    "# Take mean on last axis, but then swap the last two axes, so that\n",
    "# the number of metrics is at the end ==> 12 x n_points x n_metrics.\n",
    "# Then flatten the first wo dimensions, and add it to the dataframe.\n",
    "collected_metrics = metrics[..., rows, cols].reshape((12, -1, N_POINTS, N_LAGGED))\n",
    "# Catch the \"mean of empty slice\" warning...\n",
    "with warnings.catch_warnings():\n",
    "    warnings.simplefilter('ignore', category=RuntimeWarning)\n",
    "    collected_metrics = np.nanmean(collected_metrics, axis=-1).transpose((0, 2, 1))\n",
    "spatial_reg[metric_colnames[lag]] = collected_metrics.reshape((-1, len(metric_names)))\n",
    "spatial_reg[metric_colnames[lag]].head()"
   ],
   "metadata": {
    "collapsed": false,
    "ExecuteTime": {
     "end_time": "2024-01-29T15:14:23.350230700Z",
     "start_time": "2024-01-29T15:14:23.219592Z"
    }
   },
   "id": "17775f0ed812363c",
   "execution_count": 11
  },
  {
   "cell_type": "markdown",
   "source": [
    "### Land Cover Percentage\n",
    "The land cover usage is last. Like before, we will use the same indexing. However, we need a few extra steps if we want to calculate the percentage of **each** land cover category. Luckily, both Numpy and Pandas have convenient functions. \n",
    "\n",
    "First, after grabbing the land cover values and reshaping so that the number of columns is the number of lagged points, we insert into a DataFrame. Then, we `stack()` which places each row on top of each other, while also creating a hierarchical index, with levels being the row index and column name. Then, we `groupby()` by the first level, and call `value_counts()` on the ensuing groups. This will count the number of times each land cover category appears in each row. Then we simply undo our stacking with `unstack()`.\n",
    "\n",
    "Some extra tidbits is that we had the value of 0 in the beginning, and so we drop this column count in the end. Once we have the counts, we just divide by the sum in each row and we have our percentages. To assign to our `spatial_reg` DataFrame, we have to repeat the values for each month."
   ],
   "metadata": {
    "collapsed": false
   },
   "id": "1b8b0cd998dc8f46"
  },
  {
   "cell_type": "code",
   "outputs": [
    {
     "data": {
      "text/plain": "   LC11_L1_%  LC12_L1_%  LC21_L1_%  LC22_L1_%  LC23_L1_%  LC24_L1_%  \\\n0   0.666667        0.0        0.0        0.0        0.0        0.0   \n1   0.750000        0.0        0.0        0.0        0.0        0.0   \n2   1.000000        0.0        0.0        0.0        0.0        0.0   \n3   1.000000        0.0        0.0        0.0        0.0        0.0   \n4   0.500000        0.0        0.0        0.0        0.0        0.0   \n\n   LC31_L1_%  LC41_L1_%  LC42_L1_%  LC43_L1_%  LC52_L1_%  LC71_L1_%  \\\n0        0.0        0.0        0.0        0.0        0.0        0.0   \n1        0.0        0.0        0.0        0.0        0.0        0.0   \n2        0.0        0.0        0.0        0.0        0.0        0.0   \n3        0.0        0.0        0.0        0.0        0.0        0.0   \n4        0.0        0.0        0.0        0.0        0.0        0.0   \n\n   LC81_L1_%  LC82_L1_%  LC90_L1_%  LC95_L1_%  \n0        0.0        0.0   0.333333        0.0  \n1        0.0        0.0   0.250000        0.0  \n2        0.0        0.0   0.000000        0.0  \n3        0.0        0.0   0.000000        0.0  \n4        0.5        0.0   0.000000        0.0  ",
      "text/html": "<div>\n<style scoped>\n    .dataframe tbody tr th:only-of-type {\n        vertical-align: middle;\n    }\n\n    .dataframe tbody tr th {\n        vertical-align: top;\n    }\n\n    .dataframe thead th {\n        text-align: right;\n    }\n</style>\n<table border=\"1\" class=\"dataframe\">\n  <thead>\n    <tr style=\"text-align: right;\">\n      <th></th>\n      <th>LC11_L1_%</th>\n      <th>LC12_L1_%</th>\n      <th>LC21_L1_%</th>\n      <th>LC22_L1_%</th>\n      <th>LC23_L1_%</th>\n      <th>LC24_L1_%</th>\n      <th>LC31_L1_%</th>\n      <th>LC41_L1_%</th>\n      <th>LC42_L1_%</th>\n      <th>LC43_L1_%</th>\n      <th>LC52_L1_%</th>\n      <th>LC71_L1_%</th>\n      <th>LC81_L1_%</th>\n      <th>LC82_L1_%</th>\n      <th>LC90_L1_%</th>\n      <th>LC95_L1_%</th>\n    </tr>\n  </thead>\n  <tbody>\n    <tr>\n      <th>0</th>\n      <td>0.666667</td>\n      <td>0.0</td>\n      <td>0.0</td>\n      <td>0.0</td>\n      <td>0.0</td>\n      <td>0.0</td>\n      <td>0.0</td>\n      <td>0.0</td>\n      <td>0.0</td>\n      <td>0.0</td>\n      <td>0.0</td>\n      <td>0.0</td>\n      <td>0.0</td>\n      <td>0.0</td>\n      <td>0.333333</td>\n      <td>0.0</td>\n    </tr>\n    <tr>\n      <th>1</th>\n      <td>0.750000</td>\n      <td>0.0</td>\n      <td>0.0</td>\n      <td>0.0</td>\n      <td>0.0</td>\n      <td>0.0</td>\n      <td>0.0</td>\n      <td>0.0</td>\n      <td>0.0</td>\n      <td>0.0</td>\n      <td>0.0</td>\n      <td>0.0</td>\n      <td>0.0</td>\n      <td>0.0</td>\n      <td>0.250000</td>\n      <td>0.0</td>\n    </tr>\n    <tr>\n      <th>2</th>\n      <td>1.000000</td>\n      <td>0.0</td>\n      <td>0.0</td>\n      <td>0.0</td>\n      <td>0.0</td>\n      <td>0.0</td>\n      <td>0.0</td>\n      <td>0.0</td>\n      <td>0.0</td>\n      <td>0.0</td>\n      <td>0.0</td>\n      <td>0.0</td>\n      <td>0.0</td>\n      <td>0.0</td>\n      <td>0.000000</td>\n      <td>0.0</td>\n    </tr>\n    <tr>\n      <th>3</th>\n      <td>1.000000</td>\n      <td>0.0</td>\n      <td>0.0</td>\n      <td>0.0</td>\n      <td>0.0</td>\n      <td>0.0</td>\n      <td>0.0</td>\n      <td>0.0</td>\n      <td>0.0</td>\n      <td>0.0</td>\n      <td>0.0</td>\n      <td>0.0</td>\n      <td>0.0</td>\n      <td>0.0</td>\n      <td>0.000000</td>\n      <td>0.0</td>\n    </tr>\n    <tr>\n      <th>4</th>\n      <td>0.500000</td>\n      <td>0.0</td>\n      <td>0.0</td>\n      <td>0.0</td>\n      <td>0.0</td>\n      <td>0.0</td>\n      <td>0.0</td>\n      <td>0.0</td>\n      <td>0.0</td>\n      <td>0.0</td>\n      <td>0.0</td>\n      <td>0.0</td>\n      <td>0.5</td>\n      <td>0.0</td>\n      <td>0.000000</td>\n      <td>0.0</td>\n    </tr>\n  </tbody>\n</table>\n</div>"
     },
     "execution_count": 12,
     "metadata": {},
     "output_type": "execute_result"
    }
   ],
   "source": [
    "# Land cover is last.\n",
    "# We index the same way, but we have to calculate percentages of each land cover category.\n",
    "# To do this, we put the matrix into a dataframe, and then call a bunch of functions.\n",
    "#  - stack() ==> A single column dataframe with a multi-index of row then column.\n",
    "#  - groupby() ==> Group by the first level, which in this case is the 0.\n",
    "#  - value_counts() ==> Counts number of distinct values in each group i.e. row\n",
    "#  - unstack() ==> Reverses the stack operation, and puts 0 in places of missing row column pairs.\n",
    "#  - drop ==> Drops the \"0\" column i.e. the counts of 0, as this was a placeholder.\n",
    "lcs_df = pd.DataFrame(landcover[rows, cols].reshape((N_POINTS, N_LAGGED)), dtype=object)\n",
    "cat_counts = lcs_df.stack().groupby(level=0).value_counts().unstack(fill_value=0).drop(columns=[0])\n",
    "# Divide each row by its sum (and converts back to ndarray)\n",
    "cat_counts = cat_counts.div(cat_counts.sum(axis=1), axis=0).values\n",
    "# Right now, we have as many rows as points, so just repeat them\n",
    "# for each month we have.\n",
    "# The regular repeat will repeat in-place which isn't what we want.\n",
    "# Instead, expand into an axis, repeat on the outer axis, and get rid\n",
    "# of it afterwards.\n",
    "unwrapped = np.repeat(cat_counts[np.newaxis, ...], repeats=12, axis=0).reshape((-1, len(landcover_cats)))\n",
    "spatial_reg[landcover_colnames[lag]] = unwrapped\n",
    "spatial_reg[landcover_colnames[lag]].head()"
   ],
   "metadata": {
    "collapsed": false,
    "ExecuteTime": {
     "end_time": "2024-01-29T15:14:23.569696800Z",
     "start_time": "2024-01-29T15:14:23.352315800Z"
    }
   },
   "id": "d73ffe3d36e24c41",
   "execution_count": 12
  },
  {
   "cell_type": "markdown",
   "source": [
    "That takes care of the lag value of 1. For the rest, we will just place the above steps in a loop.\n",
    "### Preprocessing the rest of the lag values"
   ],
   "metadata": {
    "collapsed": false
   },
   "id": "cfd6b214582000d"
  },
  {
   "cell_type": "code",
   "outputs": [
    {
     "name": "stdout",
     "output_type": "stream",
     "text": [
      "Doing lag of 2...Done!\n",
      "Doing lag of 3...Done!\n",
      "Doing lag of 4...Done!\n",
      "Doing lag of 5...Done!\n"
     ]
    }
   ],
   "source": [
    "for lag in range(2, LAG + 1):\n",
    "    print(f'Doing lag of {lag}...', end='')\n",
    "    # Extract the lag locations for each center, and reshape into a 2 x num_points array\n",
    "    locs_lag = np.asarray(all_locs[lag], dtype=int)\n",
    "    N_POINTS, N_LAGGED = locs_lag.shape[0], locs_lag.shape[-1]\n",
    "    locs_lag = locs_lag.transpose((1, 0, 2)).reshape(2, N_POINTS * N_LAGGED)\n",
    "    rows, cols = locs_lag[0].tolist(), locs_lag[1].tolist()\n",
    "\n",
    "    # Calculate fire incidences for all the months at all the locations\n",
    "    fire_incidences = fires[:, rows, cols].reshape((-1, N_POINTS, N_LAGGED))\n",
    "    # Catch the \"mean of empty slice\" warning...\n",
    "    with warnings.catch_warnings():\n",
    "        warnings.simplefilter('ignore', category=RuntimeWarning)\n",
    "        fire_incidences = np.nanmean(fire_incidences, axis=-1)\n",
    "    spatial_reg[fire_colnames[lag]] = fire_incidences.ravel()\n",
    "\n",
    "    # Calculate all metrics all at once using the same idea as before\n",
    "    collected_metrics = metrics[..., rows, cols].reshape((12, -1, N_POINTS, N_LAGGED))\n",
    "    # Catch the \"mean of empty slice\" warning...\n",
    "    with warnings.catch_warnings():\n",
    "        warnings.simplefilter('ignore', category=RuntimeWarning)\n",
    "        collected_metrics = np.nanmean(collected_metrics, axis=-1).transpose((0, 2, 1))\n",
    "    spatial_reg[metric_colnames[lag]] = collected_metrics.reshape((-1, len(metric_names)))\n",
    "\n",
    "    # Land cover is last\n",
    "    lcs_df = pd.DataFrame(landcover[rows, cols].reshape((N_POINTS, N_LAGGED)), dtype=object)\n",
    "    cat_counts = lcs_df.stack().groupby(level=0).value_counts().unstack(fill_value=0).drop(columns=[0])\n",
    "    cat_counts = cat_counts.div(cat_counts.sum(axis=1), axis=0).values\n",
    "    unwrapped = np.repeat(cat_counts[np.newaxis, ...], repeats=12, axis=0).reshape((-1, len(landcover_cats)))\n",
    "    spatial_reg[landcover_colnames[lag]] = unwrapped\n",
    "\n",
    "    print('Done!')"
   ],
   "metadata": {
    "collapsed": false,
    "ExecuteTime": {
     "end_time": "2024-01-29T15:14:26.577391Z",
     "start_time": "2024-01-29T15:14:23.619206900Z"
    }
   },
   "id": "e343f36d5354a6a6",
   "execution_count": 13
  },
  {
   "cell_type": "markdown",
   "source": [
    "## Logistic Regression\n",
    "We're finally ready to perform our logistic regression. There will be a few steps in preparing our data:\n",
    "* Removing exactly one land cover category to remove multicollinearity.\n",
    "* Perform a train test split of the data, with the training set being 80% of the full data (and hence the test size being 20%).\n",
    "* Fit logistic regression and show the results!"
   ],
   "metadata": {
    "collapsed": false
   },
   "id": "41615fad8659424b"
  },
  {
   "cell_type": "code",
   "outputs": [
    {
     "name": "stdout",
     "output_type": "stream",
     "text": [
      "Train size: 292944\n",
      "Test size: 73236\n"
     ]
    }
   ],
   "source": [
    "# First handle the multicollinearity.\n",
    "for lag in range(1, LAG + 1):\n",
    "    spatial_reg.drop(columns=f'LC95_L{lag}_%', inplace=True)\n",
    "# Get rid of rows with NaNs in them...\n",
    "spatial_reg = spatial_reg.dropna()\n",
    "# Do a train test split\n",
    "train_indices, test_indices = train_test_split(np.arange(spatial_reg.shape[0]), test_size=0.2)\n",
    "print('Train size:', len(train_indices))\n",
    "print('Test size:', len(test_indices))\n",
    "train_set = spatial_reg.iloc[train_indices]\n",
    "test_set = spatial_reg.iloc[test_indices]"
   ],
   "metadata": {
    "collapsed": false,
    "ExecuteTime": {
     "end_time": "2024-01-29T15:14:27.819691600Z",
     "start_time": "2024-01-29T15:14:26.574369100Z"
    }
   },
   "id": "e380fe204f1365fb",
   "execution_count": 14
  },
  {
   "cell_type": "markdown",
   "source": [
    "Looks like we have just 300 thousand fires to fit the regression, and we will evaluate the performance on about 73 thousand. For logistic regression, we will use `sklearn`'s implementation. The target column will be our `fireCenter` column, while our inputs will be the rest of the columns, except the month column."
   ],
   "metadata": {
    "collapsed": false
   },
   "id": "80d016d342297338"
  },
  {
   "cell_type": "code",
   "outputs": [],
   "source": [
    "# Split the input from output\n",
    "X_train = train_set.iloc[:, 1:-1]\n",
    "y_train = train_set['fireCenter']\n",
    "X_test = test_set.iloc[:, 1:-1]\n",
    "y_test = test_set['fireCenter']"
   ],
   "metadata": {
    "collapsed": false,
    "ExecuteTime": {
     "end_time": "2024-01-29T15:14:27.947842Z",
     "start_time": "2024-01-29T15:14:27.850690900Z"
    }
   },
   "id": "25a08af4dc8dc4b3",
   "execution_count": 15
  },
  {
   "cell_type": "code",
   "outputs": [
    {
     "name": "stdout",
     "output_type": "stream",
     "text": [
      "              precision    recall  f1-score   support\n",
      "\n",
      "     No Fire       0.76      0.98      0.86     55761\n",
      "        Fire       0.35      0.03      0.06     17475\n",
      "\n",
      "    accuracy                           0.75     73236\n",
      "   macro avg       0.56      0.51      0.46     73236\n",
      "weighted avg       0.67      0.75      0.67     73236\n"
     ]
    },
    {
     "name": "stderr",
     "output_type": "stream",
     "text": [
      "C:\\Users\\mughi\\miniconda3\\envs\\wildfire_p310\\lib\\site-packages\\sklearn\\linear_model\\_logistic.py:460: ConvergenceWarning: lbfgs failed to converge (status=1):\n",
      "STOP: TOTAL NO. of ITERATIONS REACHED LIMIT.\n",
      "\n",
      "Increase the number of iterations (max_iter) or scale the data as shown in:\n",
      "    https://scikit-learn.org/stable/modules/preprocessing.html\n",
      "Please also refer to the documentation for alternative solver options:\n",
      "    https://scikit-learn.org/stable/modules/linear_model.html#logistic-regression\n",
      "  n_iter_i = _check_optimize_result(\n"
     ]
    }
   ],
   "source": [
    "logreg = LogisticRegression()\n",
    "logreg.fit(X_train, y_train)\n",
    "\n",
    "# Get the predictions\n",
    "predictions = logreg.predict(X_test)\n",
    "\n",
    "# Calculate performance with the test set\n",
    "print(classification_report(y_true=y_test, y_pred=predictions, target_names=['No Fire', 'Fire']))"
   ],
   "metadata": {
    "collapsed": false,
    "ExecuteTime": {
     "end_time": "2024-01-29T15:14:31.152289Z",
     "start_time": "2024-01-29T15:14:27.955842600Z"
    }
   },
   "id": "4575ec325c91948d",
   "execution_count": 16
  },
  {
   "cell_type": "markdown",
   "source": [
    "While the accuracy of 75% looks like a good mark. notice how low the F1 score is for samples with fires. Additionally, we can also check the \"null\" accuracy. This is the accuracy we get if we predicted the majority class for all samples, in this case, the accuracy for predicting not a single fire happens. "
   ],
   "metadata": {
    "collapsed": false
   },
   "id": "d3e4f1901c476758"
  },
  {
   "cell_type": "code",
   "outputs": [
    {
     "name": "stdout",
     "output_type": "stream",
     "text": [
      "Null accuracy 76.139%\n"
     ]
    }
   ],
   "source": [
    "print(f'Null accuracy {(1 - np.mean(y_test)) * 100:2.3f}%')"
   ],
   "metadata": {
    "collapsed": false,
    "ExecuteTime": {
     "end_time": "2024-01-29T15:14:31.209292200Z",
     "start_time": "2024-01-29T15:14:31.146290400Z"
    }
   },
   "id": "1a0158b6effc60a8",
   "execution_count": 17
  },
  {
   "cell_type": "markdown",
   "source": [
    "This tells us our model actually did **worse** than simply predicting not a single fire occurred."
   ],
   "metadata": {
    "collapsed": false
   },
   "id": "b799342d4f86f09d"
  },
  {
   "cell_type": "markdown",
   "source": [
    "### Scaling and Class Balancing\n",
    "There are two main issues at play that caused our model to perform poorly, especially with respect to samples that actually had fires."
   ],
   "metadata": {
    "collapsed": false
   },
   "id": "d8363bbe4fcaadb9"
  },
  {
   "cell_type": "markdown",
   "source": [
    "#### Class Balancing\n",
    "One main issue with the data is the heavy class imbalance that is present. The null accuracy clued us in to this, but much more than half of all samples contain no fires. This forces the regression model to bias towards \"no fire\" in order to minimize its error and loss functions. To mitigate this, we can have the regression only see an equal number of each class, so that each is weighted equally.\n",
    "\n",
    "In practice, this amounts to randomly sampling from the \"no fire\" subset as many \"fire\" samples we have, and merging the two datasets. Once again, we only do this in the train set, and leave the test set unaffected. Additionally, we have to carry the target data as well, so that it gets sampled and shuffled the same way."
   ],
   "metadata": {
    "collapsed": false
   },
   "id": "8dfc1c10e0764616"
  },
  {
   "cell_type": "code",
   "outputs": [
    {
     "name": "stdout",
     "output_type": "stream",
     "text": [
      "New number of records: 140198\n",
      "New proportion of fires: 0.5\n"
     ]
    }
   ],
   "source": [
    "# Equalize the number of positive and negative samples in the training set...\n",
    "no_fire_samples = train_set[train_set['fireCenter'] == 0]\n",
    "fire_samples = train_set[train_set['fireCenter'] == 1]\n",
    "# Randomly choose the number of 1 samples we have from the no fire samples\n",
    "chosen_no_fire_samples = no_fire_samples.sample(n=fire_samples.shape[0])\n",
    "# Concatenate both sets together, and shuffle with .sample(frac=1)\n",
    "train_set = pd.concat((chosen_no_fire_samples, fire_samples), axis=0, ignore_index=True).sample(frac=1)\n",
    "print('New number of records:', train_set.shape[0])\n",
    "print('New proportion of fires:', np.mean(train_set['fireCenter']))\n",
    "\n",
    "# Split off X and y train again\n",
    "X_train = train_set.iloc[:, 1:-1]\n",
    "y_train = train_set['fireCenter']"
   ],
   "metadata": {
    "collapsed": false,
    "ExecuteTime": {
     "end_time": "2024-01-29T15:14:31.594106Z",
     "start_time": "2024-01-29T15:14:31.164290400Z"
    }
   },
   "id": "e713d035305cc17",
   "execution_count": 18
  },
  {
   "cell_type": "markdown",
   "source": [
    "And that's it! One downside of this is that our total number of records decreases. However, we already have thousands of them, and the equal class weighting is much more important than the number of samples we have."
   ],
   "metadata": {
    "collapsed": false
   },
   "id": "f76e2b7a33ae7df8"
  },
  {
   "cell_type": "markdown",
   "source": [
    "#### Rescaling the data\n",
    "Another issue is that the scale of the metric values vary wildly. Let's take a glance at just a few."
   ],
   "metadata": {
    "collapsed": false
   },
   "id": "c8bf30ff3c73cfa4"
  },
  {
   "cell_type": "code",
   "outputs": [
    {
     "data": {
      "text/plain": "   tavg_L1_avg  prec_L1_avg  srad_L1_avg  wind_L1_avg  vapr_L1_avg\n0   -17.215083         18.0  4447.666667     3.445333     0.165133\n1   -17.008937         18.5  4425.500000     3.405188     0.165156\n2   -16.799875         17.5  4429.000000     3.361625     0.168513\n3     4.225424        117.0  3243.000000     3.450847     0.680000\n4     3.318625        144.5  3287.000000     3.139708     0.643800",
      "text/html": "<div>\n<style scoped>\n    .dataframe tbody tr th:only-of-type {\n        vertical-align: middle;\n    }\n\n    .dataframe tbody tr th {\n        vertical-align: top;\n    }\n\n    .dataframe thead th {\n        text-align: right;\n    }\n</style>\n<table border=\"1\" class=\"dataframe\">\n  <thead>\n    <tr style=\"text-align: right;\">\n      <th></th>\n      <th>tavg_L1_avg</th>\n      <th>prec_L1_avg</th>\n      <th>srad_L1_avg</th>\n      <th>wind_L1_avg</th>\n      <th>vapr_L1_avg</th>\n    </tr>\n  </thead>\n  <tbody>\n    <tr>\n      <th>0</th>\n      <td>-17.215083</td>\n      <td>18.0</td>\n      <td>4447.666667</td>\n      <td>3.445333</td>\n      <td>0.165133</td>\n    </tr>\n    <tr>\n      <th>1</th>\n      <td>-17.008937</td>\n      <td>18.5</td>\n      <td>4425.500000</td>\n      <td>3.405188</td>\n      <td>0.165156</td>\n    </tr>\n    <tr>\n      <th>2</th>\n      <td>-16.799875</td>\n      <td>17.5</td>\n      <td>4429.000000</td>\n      <td>3.361625</td>\n      <td>0.168513</td>\n    </tr>\n    <tr>\n      <th>3</th>\n      <td>4.225424</td>\n      <td>117.0</td>\n      <td>3243.000000</td>\n      <td>3.450847</td>\n      <td>0.680000</td>\n    </tr>\n    <tr>\n      <th>4</th>\n      <td>3.318625</td>\n      <td>144.5</td>\n      <td>3287.000000</td>\n      <td>3.139708</td>\n      <td>0.643800</td>\n    </tr>\n  </tbody>\n</table>\n</div>"
     },
     "execution_count": 19,
     "metadata": {},
     "output_type": "execute_result"
    }
   ],
   "source": [
    "spatial_reg[metric_colnames[1]].head()"
   ],
   "metadata": {
    "collapsed": false,
    "ExecuteTime": {
     "end_time": "2024-01-29T15:14:31.634842300Z",
     "start_time": "2024-01-29T15:14:31.593101300Z"
    }
   },
   "id": "d4e7a6f453e46afc",
   "execution_count": 19
  },
  {
   "cell_type": "markdown",
   "source": [
    "Notice the size of the values for the solar radiation, compared to the other columns, especially water vapor. It is generally difficult for any model to deal with very large values like this, especially across multiple scales. The easiest way to mitigate is to real scale all the columns to be much smaller. \n",
    "\n",
    "There are a few types of scaling we can do. Either we can do a simple minmax scaler, where all values are rescaled to be between 0 and 1, or normal scaler, where the data is centered and scaled to have a mean of 0 and standard deviation of 1. Another option in cases of skewed data is to apply power transformation, which makes the data a bit more normal. Which scaling we use is dependent on the shape of the data, so we'll need a few histograms."
   ],
   "metadata": {
    "collapsed": false
   },
   "id": "d9fcc7387741d35"
  },
  {
   "cell_type": "code",
   "outputs": [
    {
     "data": {
      "text/plain": "<Figure size 640x480 with 1 Axes>",
      "image/png": "[encoded data removed]"
     },
     "metadata": {},
     "output_type": "display_data"
    },
    {
     "data": {
      "text/plain": "<Figure size 640x480 with 1 Axes>",
      "image/png": "[encoded data removed]"
     },
     "metadata": {},
     "output_type": "display_data"
    },
    {
     "data": {
      "text/plain": "<Figure size 640x480 with 1 Axes>",
      "image/png": "[encoded data removed]"
     },
     "metadata": {},
     "output_type": "display_data"
    },
    {
     "data": {
      "text/plain": "<Figure size 640x480 with 1 Axes>",
      "image/png": "[encoded data removed]"
     },
     "metadata": {},
     "output_type": "display_data"
    },
    {
     "data": {
      "text/plain": "<Figure size 640x480 with 1 Axes>",
      "image/png": "[encoded data removed]"
     },
     "metadata": {},
     "output_type": "display_data"
    }
   ],
   "source": [
    "for col in metric_colnames[1]:\n",
    "    fig = plt.hist(spatial_reg[col])\n",
    "    plt.title(col)\n",
    "    plt.savefig(f'{col}.png')\n",
    "    plt.show()"
   ],
   "metadata": {
    "collapsed": false,
    "ExecuteTime": {
     "end_time": "2024-01-29T15:14:32.722893900Z",
     "start_time": "2024-01-29T15:14:31.622753800Z"
    }
   },
   "id": "fde71091c2d3d9d9",
   "execution_count": 20
  },
  {
   "cell_type": "markdown",
   "source": [
    "Of the 5 metrics we have, only precipitation and water vapor appear to have heavily skewed distributions, while the rest are fairly normal. Therefore, we can apply normal scaling to average temperature, solar radiation, and wind, and power transformations to both precipitation and water vapor.\n",
    "\n",
    "A very important thing to remember is that we want to calculate any parameters **with respect to the training data.**, and then use these parameters to scale the testing data. This is because the test data should act as \"unseen\" data.\n",
    "\n",
    "To apply different transformations to different columns of the data, we'll use the `make_column_transformer()` method from `sklearn`. This lets us choose which columns to apply the `StandardScaler` and `PowerTransformer` to. We do need to make lists of the column though."
   ],
   "metadata": {
    "collapsed": false
   },
   "id": "7be726145b2d4476"
  },
  {
   "cell_type": "code",
   "outputs": [],
   "source": [
    "standard_cols = [col for col in colnames if any(col.startswith(metric) for metric in ['tavg', 'srad', 'wind'])]\n",
    "power_cols = [col for col in colnames if any(col.startswith(metric) for metric in ['prec', 'vapr'])]\n",
    "\n",
    "transform = make_column_transformer(\n",
    "    (StandardScaler(), standard_cols),\n",
    "    (PowerTransformer(method='yeo-johnson'), power_cols),\n",
    "    remainder='passthrough',  # To avoid dropping columns we DON'T transform\n",
    "    verbose_feature_names_out=False  # To get the final mapping of input to output columns without original transformer name.\n",
    ")"
   ],
   "metadata": {
    "collapsed": false,
    "ExecuteTime": {
     "end_time": "2024-01-29T15:14:32.739996400Z",
     "start_time": "2024-01-29T15:14:32.718808500Z"
    }
   },
   "id": "8a76c1bd301def4e",
   "execution_count": 21
  },
  {
   "cell_type": "code",
   "outputs": [
    {
     "data": {
      "text/plain": "array([[ 0.55481193, -0.1663762 , -0.40291726, ...,  0.15      ,\n         0.45      ,  0.        ],\n       [ 2.16198943,  1.2894434 , -0.05394126, ...,  0.        ,\n         0.05      ,  0.        ],\n       [-1.87861788, -1.78230941,  0.89705361, ...,  0.        ,\n         0.15      ,  0.05      ],\n       ...,\n       [-0.35749476, -0.46013255,  1.43565403, ...,  0.        ,\n         0.2       ,  0.        ],\n       [-0.33797301, -0.69837035,  0.33559366, ...,  0.        ,\n         0.28571429,  0.28571429],\n       [ 1.26715501,  0.96468724, -1.64556632, ...,  0.1       ,\n         0.        ,  0.05      ]])"
     },
     "execution_count": 22,
     "metadata": {},
     "output_type": "execute_result"
    }
   ],
   "source": [
    "transform.fit_transform(X_train)"
   ],
   "metadata": {
    "collapsed": false,
    "ExecuteTime": {
     "end_time": "2024-01-29T15:14:34.330063800Z",
     "start_time": "2024-01-29T15:14:32.731957Z"
    }
   },
   "id": "238e451b67ebf5e2",
   "execution_count": 22
  },
  {
   "cell_type": "markdown",
   "source": [
    "One slight snag of the `ColumnTransformer` is that all the column names get wiped in the output. Worse still, they are also reordered such that all the transformed columns are at the beginning, with the unaffected columns at the end. In order to reorder these columns according to our original `X_train`, we need to do a little trickery. The exact feature name ordering can be had with `.get_feature_names_out()`. Then we find what index in the new ordering each column in the original is at, and then reorder it!"
   ],
   "metadata": {
    "collapsed": false
   },
   "id": "c83ed3df04b89db5"
  },
  {
   "cell_type": "code",
   "outputs": [
    {
     "data": {
      "text/plain": "   tavg_L1_avg  srad_L1_avg  wind_L1_avg  tavg_L2_avg  srad_L2_avg  \\\n0     0.554812    -0.166376    -0.402917     0.558304    -0.166874   \n1     2.161989     1.289443    -0.053941     2.140721     1.289216   \n2    -1.878618    -1.782309     0.897054    -1.885974    -1.786020   \n3     0.618095     0.543340     1.201672     0.623555     0.541736   \n4     0.717956     0.813319     0.268686     0.710673     0.811974   \n\n   wind_L2_avg  tavg_L3_avg  srad_L3_avg  wind_L3_avg  tavg_L4_avg  ...  \\\n0    -0.418769     0.559111    -0.167345    -0.435037     0.558941  ...   \n1    -0.059216     2.107438     1.285315    -0.062167     2.089913  ...   \n2     0.902043    -1.872196    -1.788702     0.916444    -1.864821  ...   \n3     1.195435     0.622905     0.539896     1.205114     0.625178  ...   \n4     0.271340     0.714470     0.814537     0.260764     0.730121  ...   \n\n   LC24_L5_%  LC31_L5_%  LC41_L5_%  LC42_L5_%  LC43_L5_%  LC52_L5_%  \\\n0        0.0       0.00       0.05       0.00        0.1       0.00   \n1        0.0       0.15       0.00       0.00        0.0       0.60   \n2        0.0       0.00       0.00       0.20        0.0       0.00   \n3        0.0       0.00       0.10       0.05        0.0       0.00   \n4        0.0       0.00       0.00       0.05        0.0       0.35   \n\n   LC71_L5_%  LC81_L5_%  LC82_L5_%  LC90_L5_%  \n0       0.00       0.15       0.45       0.00  \n1       0.20       0.00       0.05       0.00  \n2       0.00       0.00       0.15       0.05  \n3       0.50       0.10       0.10       0.00  \n4       0.45       0.00       0.10       0.00  \n\n[5 rows x 105 columns]",
      "text/html": "<div>\n<style scoped>\n    .dataframe tbody tr th:only-of-type {\n        vertical-align: middle;\n    }\n\n    .dataframe tbody tr th {\n        vertical-align: top;\n    }\n\n    .dataframe thead th {\n        text-align: right;\n    }\n</style>\n<table border=\"1\" class=\"dataframe\">\n  <thead>\n    <tr style=\"text-align: right;\">\n      <th></th>\n      <th>tavg_L1_avg</th>\n      <th>srad_L1_avg</th>\n      <th>wind_L1_avg</th>\n      <th>tavg_L2_avg</th>\n      <th>srad_L2_avg</th>\n      <th>wind_L2_avg</th>\n      <th>tavg_L3_avg</th>\n      <th>srad_L3_avg</th>\n      <th>wind_L3_avg</th>\n      <th>tavg_L4_avg</th>\n      <th>...</th>\n      <th>LC24_L5_%</th>\n      <th>LC31_L5_%</th>\n      <th>LC41_L5_%</th>\n      <th>LC42_L5_%</th>\n      <th>LC43_L5_%</th>\n      <th>LC52_L5_%</th>\n      <th>LC71_L5_%</th>\n      <th>LC81_L5_%</th>\n      <th>LC82_L5_%</th>\n      <th>LC90_L5_%</th>\n    </tr>\n  </thead>\n  <tbody>\n    <tr>\n      <th>0</th>\n      <td>0.554812</td>\n      <td>-0.166376</td>\n      <td>-0.402917</td>\n      <td>0.558304</td>\n      <td>-0.166874</td>\n      <td>-0.418769</td>\n      <td>0.559111</td>\n      <td>-0.167345</td>\n      <td>-0.435037</td>\n      <td>0.558941</td>\n      <td>...</td>\n      <td>0.0</td>\n      <td>0.00</td>\n      <td>0.05</td>\n      <td>0.00</td>\n      <td>0.1</td>\n      <td>0.00</td>\n      <td>0.00</td>\n      <td>0.15</td>\n      <td>0.45</td>\n      <td>0.00</td>\n    </tr>\n    <tr>\n      <th>1</th>\n      <td>2.161989</td>\n      <td>1.289443</td>\n      <td>-0.053941</td>\n      <td>2.140721</td>\n      <td>1.289216</td>\n      <td>-0.059216</td>\n      <td>2.107438</td>\n      <td>1.285315</td>\n      <td>-0.062167</td>\n      <td>2.089913</td>\n      <td>...</td>\n      <td>0.0</td>\n      <td>0.15</td>\n      <td>0.00</td>\n      <td>0.00</td>\n      <td>0.0</td>\n      <td>0.60</td>\n      <td>0.20</td>\n      <td>0.00</td>\n      <td>0.05</td>\n      <td>0.00</td>\n    </tr>\n    <tr>\n      <th>2</th>\n      <td>-1.878618</td>\n      <td>-1.782309</td>\n      <td>0.897054</td>\n      <td>-1.885974</td>\n      <td>-1.786020</td>\n      <td>0.902043</td>\n      <td>-1.872196</td>\n      <td>-1.788702</td>\n      <td>0.916444</td>\n      <td>-1.864821</td>\n      <td>...</td>\n      <td>0.0</td>\n      <td>0.00</td>\n      <td>0.00</td>\n      <td>0.20</td>\n      <td>0.0</td>\n      <td>0.00</td>\n      <td>0.00</td>\n      <td>0.00</td>\n      <td>0.15</td>\n      <td>0.05</td>\n    </tr>\n    <tr>\n      <th>3</th>\n      <td>0.618095</td>\n      <td>0.543340</td>\n      <td>1.201672</td>\n      <td>0.623555</td>\n      <td>0.541736</td>\n      <td>1.195435</td>\n      <td>0.622905</td>\n      <td>0.539896</td>\n      <td>1.205114</td>\n      <td>0.625178</td>\n      <td>...</td>\n      <td>0.0</td>\n      <td>0.00</td>\n      <td>0.10</td>\n      <td>0.05</td>\n      <td>0.0</td>\n      <td>0.00</td>\n      <td>0.50</td>\n      <td>0.10</td>\n      <td>0.10</td>\n      <td>0.00</td>\n    </tr>\n    <tr>\n      <th>4</th>\n      <td>0.717956</td>\n      <td>0.813319</td>\n      <td>0.268686</td>\n      <td>0.710673</td>\n      <td>0.811974</td>\n      <td>0.271340</td>\n      <td>0.714470</td>\n      <td>0.814537</td>\n      <td>0.260764</td>\n      <td>0.730121</td>\n      <td>...</td>\n      <td>0.0</td>\n      <td>0.00</td>\n      <td>0.00</td>\n      <td>0.05</td>\n      <td>0.0</td>\n      <td>0.35</td>\n      <td>0.45</td>\n      <td>0.00</td>\n      <td>0.10</td>\n      <td>0.00</td>\n    </tr>\n  </tbody>\n</table>\n<p>5 rows × 105 columns</p>\n</div>"
     },
     "execution_count": 23,
     "metadata": {},
     "output_type": "execute_result"
    }
   ],
   "source": [
    "# Create a transformed DataFrame, with the transformed data, and the new column ordering\n",
    "X_transform = pd.DataFrame(data=transform.transform(X_train), columns=transform.get_feature_names_out(transform.feature_names_in_))\n",
    "X_transform.head()"
   ],
   "metadata": {
    "collapsed": false,
    "ExecuteTime": {
     "end_time": "2024-01-29T15:14:34.526290100Z",
     "start_time": "2024-01-29T15:14:34.333062800Z"
    }
   },
   "id": "3c9d9fe96d2b2676",
   "execution_count": 23
  },
  {
   "cell_type": "code",
   "outputs": [
    {
     "data": {
      "text/plain": "   fires_L1_%  tavg_L1_avg  prec_L1_avg  srad_L1_avg  wind_L1_avg  \\\n0         0.0     0.554812     0.478852    -0.166376    -0.402917   \n1         0.0     2.161989    -1.262072     1.289443    -0.053941   \n2         0.0    -1.878618    -0.201889    -1.782309     0.897054   \n3         0.0     0.618095     0.522388     0.543340     1.201672   \n4         0.0     0.717956    -0.554168     0.813319     0.268686   \n\n   vapr_L1_avg  LC11_L1_%  LC12_L1_%  LC21_L1_%  LC22_L1_%  ...  LC24_L5_%  \\\n0     0.912618       0.00        0.0        0.0        0.0  ...        0.0   \n1     0.844680       0.00        0.0        0.0        0.0  ...        0.0   \n2    -1.608390       0.75        0.0        0.0        0.0  ...        0.0   \n3     0.777671       0.00        0.0        0.0        0.0  ...        0.0   \n4     0.344607       0.00        0.0        0.0        0.0  ...        0.0   \n\n   LC31_L5_%  LC41_L5_%  LC42_L5_%  LC43_L5_%  LC52_L5_%  LC71_L5_%  \\\n0       0.00       0.05       0.00        0.1       0.00       0.00   \n1       0.15       0.00       0.00        0.0       0.60       0.20   \n2       0.00       0.00       0.20        0.0       0.00       0.00   \n3       0.00       0.10       0.05        0.0       0.00       0.50   \n4       0.00       0.00       0.05        0.0       0.35       0.45   \n\n   LC81_L5_%  LC82_L5_%  LC90_L5_%  \n0       0.15       0.45       0.00  \n1       0.00       0.05       0.00  \n2       0.00       0.15       0.05  \n3       0.10       0.10       0.00  \n4       0.00       0.10       0.00  \n\n[5 rows x 105 columns]",
      "text/html": "<div>\n<style scoped>\n    .dataframe tbody tr th:only-of-type {\n        vertical-align: middle;\n    }\n\n    .dataframe tbody tr th {\n        vertical-align: top;\n    }\n\n    .dataframe thead th {\n        text-align: right;\n    }\n</style>\n<table border=\"1\" class=\"dataframe\">\n  <thead>\n    <tr style=\"text-align: right;\">\n      <th></th>\n      <th>fires_L1_%</th>\n      <th>tavg_L1_avg</th>\n      <th>prec_L1_avg</th>\n      <th>srad_L1_avg</th>\n      <th>wind_L1_avg</th>\n      <th>vapr_L1_avg</th>\n      <th>LC11_L1_%</th>\n      <th>LC12_L1_%</th>\n      <th>LC21_L1_%</th>\n      <th>LC22_L1_%</th>\n      <th>...</th>\n      <th>LC24_L5_%</th>\n      <th>LC31_L5_%</th>\n      <th>LC41_L5_%</th>\n      <th>LC42_L5_%</th>\n      <th>LC43_L5_%</th>\n      <th>LC52_L5_%</th>\n      <th>LC71_L5_%</th>\n      <th>LC81_L5_%</th>\n      <th>LC82_L5_%</th>\n      <th>LC90_L5_%</th>\n    </tr>\n  </thead>\n  <tbody>\n    <tr>\n      <th>0</th>\n      <td>0.0</td>\n      <td>0.554812</td>\n      <td>0.478852</td>\n      <td>-0.166376</td>\n      <td>-0.402917</td>\n      <td>0.912618</td>\n      <td>0.00</td>\n      <td>0.0</td>\n      <td>0.0</td>\n      <td>0.0</td>\n      <td>...</td>\n      <td>0.0</td>\n      <td>0.00</td>\n      <td>0.05</td>\n      <td>0.00</td>\n      <td>0.1</td>\n      <td>0.00</td>\n      <td>0.00</td>\n      <td>0.15</td>\n      <td>0.45</td>\n      <td>0.00</td>\n    </tr>\n    <tr>\n      <th>1</th>\n      <td>0.0</td>\n      <td>2.161989</td>\n      <td>-1.262072</td>\n      <td>1.289443</td>\n      <td>-0.053941</td>\n      <td>0.844680</td>\n      <td>0.00</td>\n      <td>0.0</td>\n      <td>0.0</td>\n      <td>0.0</td>\n      <td>...</td>\n      <td>0.0</td>\n      <td>0.15</td>\n      <td>0.00</td>\n      <td>0.00</td>\n      <td>0.0</td>\n      <td>0.60</td>\n      <td>0.20</td>\n      <td>0.00</td>\n      <td>0.05</td>\n      <td>0.00</td>\n    </tr>\n    <tr>\n      <th>2</th>\n      <td>0.0</td>\n      <td>-1.878618</td>\n      <td>-0.201889</td>\n      <td>-1.782309</td>\n      <td>0.897054</td>\n      <td>-1.608390</td>\n      <td>0.75</td>\n      <td>0.0</td>\n      <td>0.0</td>\n      <td>0.0</td>\n      <td>...</td>\n      <td>0.0</td>\n      <td>0.00</td>\n      <td>0.00</td>\n      <td>0.20</td>\n      <td>0.0</td>\n      <td>0.00</td>\n      <td>0.00</td>\n      <td>0.00</td>\n      <td>0.15</td>\n      <td>0.05</td>\n    </tr>\n    <tr>\n      <th>3</th>\n      <td>0.0</td>\n      <td>0.618095</td>\n      <td>0.522388</td>\n      <td>0.543340</td>\n      <td>1.201672</td>\n      <td>0.777671</td>\n      <td>0.00</td>\n      <td>0.0</td>\n      <td>0.0</td>\n      <td>0.0</td>\n      <td>...</td>\n      <td>0.0</td>\n      <td>0.00</td>\n      <td>0.10</td>\n      <td>0.05</td>\n      <td>0.0</td>\n      <td>0.00</td>\n      <td>0.50</td>\n      <td>0.10</td>\n      <td>0.10</td>\n      <td>0.00</td>\n    </tr>\n    <tr>\n      <th>4</th>\n      <td>0.0</td>\n      <td>0.717956</td>\n      <td>-0.554168</td>\n      <td>0.813319</td>\n      <td>0.268686</td>\n      <td>0.344607</td>\n      <td>0.00</td>\n      <td>0.0</td>\n      <td>0.0</td>\n      <td>0.0</td>\n      <td>...</td>\n      <td>0.0</td>\n      <td>0.00</td>\n      <td>0.00</td>\n      <td>0.05</td>\n      <td>0.0</td>\n      <td>0.35</td>\n      <td>0.45</td>\n      <td>0.00</td>\n      <td>0.10</td>\n      <td>0.00</td>\n    </tr>\n  </tbody>\n</table>\n<p>5 rows × 105 columns</p>\n</div>"
     },
     "execution_count": 24,
     "metadata": {},
     "output_type": "execute_result"
    }
   ],
   "source": [
    "# Now, find the new index ordering\n",
    "col_index_ordering = [X_transform.columns.get_loc(orig_col) for orig_col in X_train.columns]\n",
    "# Reindexing into the column list with the new indices will automatically reorder them!\n",
    "X_transform = X_transform[X_transform.columns[col_index_ordering]]\n",
    "X_transform.head()"
   ],
   "metadata": {
    "collapsed": false,
    "ExecuteTime": {
     "end_time": "2024-01-29T15:14:34.669887300Z",
     "start_time": "2024-01-29T15:14:34.522266600Z"
    }
   },
   "id": "f586407bc6f95a30",
   "execution_count": 24
  },
  {
   "cell_type": "markdown",
   "source": [
    "And just like that, we have it in the original ordering. At this point, we are ready to pass the updated data through the logistic regression one more time!\n",
    "### Logistic Regression after data scaling\n",
    "We follow the same steps as before. This time, we need to process `X_test` using the scaling parameters we developed for `X_train`."
   ],
   "metadata": {
    "collapsed": false
   },
   "id": "7761b9826c7d4b3b"
  },
  {
   "cell_type": "code",
   "outputs": [
    {
     "data": {
      "text/plain": "   fires_L1_%  tavg_L1_avg  prec_L1_avg  srad_L1_avg  wind_L1_avg  \\\n0        0.00     0.897023    -0.065626     1.177352     0.927326   \n1        0.75    -0.780239    -0.395039    -0.757910     0.963695   \n2        0.75     0.341675     0.302718     0.639931     0.973089   \n3        0.50     0.455800    -0.727034    -0.013798     1.114007   \n4        0.25     1.227284     0.818776     0.361401     0.529998   \n\n   vapr_L1_avg  LC11_L1_%  LC12_L1_%  LC21_L1_%  LC22_L1_%  ...  LC24_L5_%  \\\n0     0.901067        0.0        0.0        0.0        0.0  ...        0.0   \n1    -0.754241        0.0        0.0        0.0        0.0  ...        0.0   \n2     0.685686        0.0        0.0        0.0        0.0  ...        0.0   \n3     0.251080        0.0        0.0        0.0        0.0  ...        0.0   \n4     1.224845        0.0        0.0        0.0        0.0  ...        0.0   \n\n   LC31_L5_%  LC41_L5_%  LC42_L5_%  LC43_L5_%  LC52_L5_%  LC71_L5_%  \\\n0        0.0       0.00   0.000000       0.00       0.25       0.55   \n1        0.0       0.35   0.000000       0.00       0.00       0.35   \n2        0.0       0.00   0.333333       0.00       0.00       0.00   \n3        0.0       0.00   0.000000       0.05       0.00       0.65   \n4        0.0       0.05   0.000000       0.00       0.25       0.40   \n\n   LC81_L5_%  LC82_L5_%  LC90_L5_%  \n0       0.00       0.20       0.00  \n1       0.05       0.10       0.00  \n2       0.00       0.25       0.25  \n3       0.15       0.10       0.05  \n4       0.00       0.20       0.00  \n\n[5 rows x 105 columns]",
      "text/html": "<div>\n<style scoped>\n    .dataframe tbody tr th:only-of-type {\n        vertical-align: middle;\n    }\n\n    .dataframe tbody tr th {\n        vertical-align: top;\n    }\n\n    .dataframe thead th {\n        text-align: right;\n    }\n</style>\n<table border=\"1\" class=\"dataframe\">\n  <thead>\n    <tr style=\"text-align: right;\">\n      <th></th>\n      <th>fires_L1_%</th>\n      <th>tavg_L1_avg</th>\n      <th>prec_L1_avg</th>\n      <th>srad_L1_avg</th>\n      <th>wind_L1_avg</th>\n      <th>vapr_L1_avg</th>\n      <th>LC11_L1_%</th>\n      <th>LC12_L1_%</th>\n      <th>LC21_L1_%</th>\n      <th>LC22_L1_%</th>\n      <th>...</th>\n      <th>LC24_L5_%</th>\n      <th>LC31_L5_%</th>\n      <th>LC41_L5_%</th>\n      <th>LC42_L5_%</th>\n      <th>LC43_L5_%</th>\n      <th>LC52_L5_%</th>\n      <th>LC71_L5_%</th>\n      <th>LC81_L5_%</th>\n      <th>LC82_L5_%</th>\n      <th>LC90_L5_%</th>\n    </tr>\n  </thead>\n  <tbody>\n    <tr>\n      <th>0</th>\n      <td>0.00</td>\n      <td>0.897023</td>\n      <td>-0.065626</td>\n      <td>1.177352</td>\n      <td>0.927326</td>\n      <td>0.901067</td>\n      <td>0.0</td>\n      <td>0.0</td>\n      <td>0.0</td>\n      <td>0.0</td>\n      <td>...</td>\n      <td>0.0</td>\n      <td>0.0</td>\n      <td>0.00</td>\n      <td>0.000000</td>\n      <td>0.00</td>\n      <td>0.25</td>\n      <td>0.55</td>\n      <td>0.00</td>\n      <td>0.20</td>\n      <td>0.00</td>\n    </tr>\n    <tr>\n      <th>1</th>\n      <td>0.75</td>\n      <td>-0.780239</td>\n      <td>-0.395039</td>\n      <td>-0.757910</td>\n      <td>0.963695</td>\n      <td>-0.754241</td>\n      <td>0.0</td>\n      <td>0.0</td>\n      <td>0.0</td>\n      <td>0.0</td>\n      <td>...</td>\n      <td>0.0</td>\n      <td>0.0</td>\n      <td>0.35</td>\n      <td>0.000000</td>\n      <td>0.00</td>\n      <td>0.00</td>\n      <td>0.35</td>\n      <td>0.05</td>\n      <td>0.10</td>\n      <td>0.00</td>\n    </tr>\n    <tr>\n      <th>2</th>\n      <td>0.75</td>\n      <td>0.341675</td>\n      <td>0.302718</td>\n      <td>0.639931</td>\n      <td>0.973089</td>\n      <td>0.685686</td>\n      <td>0.0</td>\n      <td>0.0</td>\n      <td>0.0</td>\n      <td>0.0</td>\n      <td>...</td>\n      <td>0.0</td>\n      <td>0.0</td>\n      <td>0.00</td>\n      <td>0.333333</td>\n      <td>0.00</td>\n      <td>0.00</td>\n      <td>0.00</td>\n      <td>0.00</td>\n      <td>0.25</td>\n      <td>0.25</td>\n    </tr>\n    <tr>\n      <th>3</th>\n      <td>0.50</td>\n      <td>0.455800</td>\n      <td>-0.727034</td>\n      <td>-0.013798</td>\n      <td>1.114007</td>\n      <td>0.251080</td>\n      <td>0.0</td>\n      <td>0.0</td>\n      <td>0.0</td>\n      <td>0.0</td>\n      <td>...</td>\n      <td>0.0</td>\n      <td>0.0</td>\n      <td>0.00</td>\n      <td>0.000000</td>\n      <td>0.05</td>\n      <td>0.00</td>\n      <td>0.65</td>\n      <td>0.15</td>\n      <td>0.10</td>\n      <td>0.05</td>\n    </tr>\n    <tr>\n      <th>4</th>\n      <td>0.25</td>\n      <td>1.227284</td>\n      <td>0.818776</td>\n      <td>0.361401</td>\n      <td>0.529998</td>\n      <td>1.224845</td>\n      <td>0.0</td>\n      <td>0.0</td>\n      <td>0.0</td>\n      <td>0.0</td>\n      <td>...</td>\n      <td>0.0</td>\n      <td>0.0</td>\n      <td>0.05</td>\n      <td>0.000000</td>\n      <td>0.00</td>\n      <td>0.25</td>\n      <td>0.40</td>\n      <td>0.00</td>\n      <td>0.20</td>\n      <td>0.00</td>\n    </tr>\n  </tbody>\n</table>\n<p>5 rows × 105 columns</p>\n</div>"
     },
     "execution_count": 25,
     "metadata": {},
     "output_type": "execute_result"
    }
   ],
   "source": [
    "X_test_transform = pd.DataFrame(data=transform.transform(X_test), columns=transform.get_feature_names_out(transform.feature_names_in_))\n",
    "X_test_transform = X_test_transform[X_test_transform.columns[col_index_ordering]]\n",
    "X_test_transform.head()"
   ],
   "metadata": {
    "collapsed": false,
    "ExecuteTime": {
     "end_time": "2024-01-29T15:14:34.822025Z",
     "start_time": "2024-01-29T15:14:34.595268300Z"
    }
   },
   "id": "4d82079e6ce8b920",
   "execution_count": 25
  },
  {
   "cell_type": "code",
   "outputs": [
    {
     "name": "stdout",
     "output_type": "stream",
     "text": [
      "              precision    recall  f1-score   support\n",
      "\n",
      "     No Fire       0.92      0.85      0.88     55761\n",
      "        Fire       0.61      0.78      0.69     17475\n",
      "\n",
      "    accuracy                           0.83     73236\n",
      "   macro avg       0.77      0.81      0.78     73236\n",
      "weighted avg       0.85      0.83      0.84     73236\n"
     ]
    },
    {
     "name": "stderr",
     "output_type": "stream",
     "text": [
      "C:\\Users\\mughi\\miniconda3\\envs\\wildfire_p310\\lib\\site-packages\\sklearn\\linear_model\\_logistic.py:460: ConvergenceWarning: lbfgs failed to converge (status=1):\n",
      "STOP: TOTAL NO. of ITERATIONS REACHED LIMIT.\n",
      "\n",
      "Increase the number of iterations (max_iter) or scale the data as shown in:\n",
      "    https://scikit-learn.org/stable/modules/preprocessing.html\n",
      "Please also refer to the documentation for alternative solver options:\n",
      "    https://scikit-learn.org/stable/modules/linear_model.html#logistic-regression\n",
      "  n_iter_i = _check_optimize_result(\n"
     ]
    }
   ],
   "source": [
    "logreg = LogisticRegression()\n",
    "logreg.fit(X_transform, y_train)\n",
    "predictions = logreg.predict(X_test_transform)\n",
    "print(classification_report(y_true=y_test, y_pred=predictions, target_names=['No Fire', 'Fire']))"
   ],
   "metadata": {
    "collapsed": false,
    "ExecuteTime": {
     "end_time": "2024-01-29T15:14:36.630771700Z",
     "start_time": "2024-01-29T15:14:34.725507400Z"
    }
   },
   "id": "d3817440998f4e55",
   "execution_count": 26
  },
  {
   "cell_type": "markdown",
   "source": [
    "Notice the **large** improvement we see in the F1-score for \"fire\" samples. Without scaling and class balancing, we saw only a pitiful 0.03 F1-score. After the preprocessing, it has jumped up to a respectable **0.69**! The downstream effect of this is that it also improved our accuracy by about 8%, up to 83%. What is additionally encouraging is that we didn't see a drop in performance for the \"No fire\" samples, and in fact, we saw a slight bump. This is the power of applying scaling transformations!\n",
    "\n",
    "## Conclusion\n",
    "In this notebook, we saw how we can preprocess the data from before, and put it in a format to push through a logistic regression model. Additionally, we also applied normal scaling and power transformations to the metric columns, as well as removing any class imbalance, in order to vastly improve the model.\n",
    "\n",
    "Some future improvements could include applying additional transformations on the columns we didn't touch on. For example, for land cover, it could be possible to include a combined average, treating the land cover categories as actual integers. This can remove lots of columns from the input and reduce noise. Another thing you have noticed that is that the regression model was unable to converge, suggesting the data is not well-tuned enough for a logistic regression model.\n",
    "\n",
    "In the next notebook, we will actually apply neural networks to see if we can squeeze even more additional performance out of our data."
   ],
   "metadata": {
    "collapsed": false
   },
   "id": "a44e1b960ed9922d"
  }
 ],
 "metadata": {
  "kernelspec": {
   "display_name": "Python 3",
   "language": "python",
   "name": "python3"
  },
  "language_info": {
   "codemirror_mode": {
    "name": "ipython",
    "version": 2
   },
   "file_extension": ".py",
   "mimetype": "text/x-python",
   "name": "python",
   "nbconvert_exporter": "python",
   "pygments_lexer": "ipython2",
   "version": "2.7.6"
  }
 },
 "nbformat": 4,
 "nbformat_minor": 5
}
